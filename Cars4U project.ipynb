{
 "cells": [
  {
   "cell_type": "markdown",
   "id": "1ec97ffc",
   "metadata": {},
   "source": [
    "# Question\n",
    "\n",
    "- There is a huge demand for used cars in the Indian Market today. As sales of new cars have slowed down in the recent past, the pre-owned car market has continued to grow over the past years and is larger than the new car market now. Cars4U is a budding tech start-up that aims to find footholes in this market.\n",
    "\n",
    "In 2018-19, while new car sales were recorded at 3.6 million units, around 4 million second-hand cars were bought and sold. There is a slowdown in new car sales and that could mean that the demand is shifting towards the pre-owned market. In fact, some car sellers replace their old cars with pre-owned cars instead of buying new ones. Unlike new cars, where price and supply are fairly deterministic and managed by OEMs (Original Equipment Manufacturer / except for dealership level discounts which come into play only in the last stage of the customer journey), used cars are very different beasts with huge uncertainty in both pricing and supply. Keeping this in mind, the pricing scheme of these used cars becomes important in order to grow in the market.\n",
    "\n",
    "As a senior data scientist at Cars4U, you have to come up with a pricing model that can effectively predict the price of used cars and can help the business in devising profitable strategies using differential pricing. For example, if the business knows the market price, it will never sell anything below it."
   ]
  },
  {
   "cell_type": "code",
   "execution_count": 1,
   "id": "d039d778",
   "metadata": {},
   "outputs": [],
   "source": [
    "import numpy as np\n",
    "import pandas as pd\n",
    "import matplotlib.pyplot as plt\n",
    "import seaborn as sns\n",
    "from sklearn.linear_model import LinearRegression\n",
    "from sklearn.preprocessing import StandardScaler\n",
    "from sklearn.model_selection import train_test_split\n",
    "from sklearn.metrics import r2_score,mean_absolute_error, mean_squared_error"
   ]
  },
  {
   "cell_type": "code",
   "execution_count": 2,
   "id": "ec293b2e",
   "metadata": {},
   "outputs": [
    {
     "data": {
      "text/html": [
       "<div>\n",
       "<style scoped>\n",
       "    .dataframe tbody tr th:only-of-type {\n",
       "        vertical-align: middle;\n",
       "    }\n",
       "\n",
       "    .dataframe tbody tr th {\n",
       "        vertical-align: top;\n",
       "    }\n",
       "\n",
       "    .dataframe thead th {\n",
       "        text-align: right;\n",
       "    }\n",
       "</style>\n",
       "<table border=\"1\" class=\"dataframe\">\n",
       "  <thead>\n",
       "    <tr style=\"text-align: right;\">\n",
       "      <th></th>\n",
       "      <th>S.No.</th>\n",
       "      <th>Name</th>\n",
       "      <th>Location</th>\n",
       "      <th>Year</th>\n",
       "      <th>Kilometers_Driven</th>\n",
       "      <th>Fuel_Type</th>\n",
       "      <th>Transmission</th>\n",
       "      <th>Owner_Type</th>\n",
       "      <th>Mileage</th>\n",
       "      <th>Engine</th>\n",
       "      <th>Power</th>\n",
       "      <th>Seats</th>\n",
       "      <th>New_Price</th>\n",
       "      <th>Price</th>\n",
       "    </tr>\n",
       "  </thead>\n",
       "  <tbody>\n",
       "    <tr>\n",
       "      <th>0</th>\n",
       "      <td>0</td>\n",
       "      <td>Maruti Wagon R LXI CNG</td>\n",
       "      <td>Mumbai</td>\n",
       "      <td>2010</td>\n",
       "      <td>72000</td>\n",
       "      <td>CNG</td>\n",
       "      <td>Manual</td>\n",
       "      <td>First</td>\n",
       "      <td>26.6 km/kg</td>\n",
       "      <td>998 CC</td>\n",
       "      <td>58.16 bhp</td>\n",
       "      <td>5.0</td>\n",
       "      <td>5.51</td>\n",
       "      <td>1.75</td>\n",
       "    </tr>\n",
       "    <tr>\n",
       "      <th>1</th>\n",
       "      <td>1</td>\n",
       "      <td>Hyundai Creta 1.6 CRDi SX Option</td>\n",
       "      <td>Pune</td>\n",
       "      <td>2015</td>\n",
       "      <td>41000</td>\n",
       "      <td>Diesel</td>\n",
       "      <td>Manual</td>\n",
       "      <td>First</td>\n",
       "      <td>19.67 kmpl</td>\n",
       "      <td>1582 CC</td>\n",
       "      <td>126.2 bhp</td>\n",
       "      <td>5.0</td>\n",
       "      <td>16.06</td>\n",
       "      <td>12.50</td>\n",
       "    </tr>\n",
       "    <tr>\n",
       "      <th>2</th>\n",
       "      <td>2</td>\n",
       "      <td>Honda Jazz V</td>\n",
       "      <td>Chennai</td>\n",
       "      <td>2011</td>\n",
       "      <td>46000</td>\n",
       "      <td>Petrol</td>\n",
       "      <td>Manual</td>\n",
       "      <td>First</td>\n",
       "      <td>18.2 kmpl</td>\n",
       "      <td>1199 CC</td>\n",
       "      <td>88.7 bhp</td>\n",
       "      <td>5.0</td>\n",
       "      <td>8.61</td>\n",
       "      <td>4.50</td>\n",
       "    </tr>\n",
       "    <tr>\n",
       "      <th>3</th>\n",
       "      <td>3</td>\n",
       "      <td>Maruti Ertiga VDI</td>\n",
       "      <td>Chennai</td>\n",
       "      <td>2012</td>\n",
       "      <td>87000</td>\n",
       "      <td>Diesel</td>\n",
       "      <td>Manual</td>\n",
       "      <td>First</td>\n",
       "      <td>20.77 kmpl</td>\n",
       "      <td>1248 CC</td>\n",
       "      <td>88.76 bhp</td>\n",
       "      <td>7.0</td>\n",
       "      <td>11.27</td>\n",
       "      <td>6.00</td>\n",
       "    </tr>\n",
       "    <tr>\n",
       "      <th>4</th>\n",
       "      <td>4</td>\n",
       "      <td>Audi A4 New 2.0 TDI Multitronic</td>\n",
       "      <td>Coimbatore</td>\n",
       "      <td>2013</td>\n",
       "      <td>40670</td>\n",
       "      <td>Diesel</td>\n",
       "      <td>Automatic</td>\n",
       "      <td>Second</td>\n",
       "      <td>15.2 kmpl</td>\n",
       "      <td>1968 CC</td>\n",
       "      <td>140.8 bhp</td>\n",
       "      <td>5.0</td>\n",
       "      <td>53.14</td>\n",
       "      <td>17.74</td>\n",
       "    </tr>\n",
       "    <tr>\n",
       "      <th>...</th>\n",
       "      <td>...</td>\n",
       "      <td>...</td>\n",
       "      <td>...</td>\n",
       "      <td>...</td>\n",
       "      <td>...</td>\n",
       "      <td>...</td>\n",
       "      <td>...</td>\n",
       "      <td>...</td>\n",
       "      <td>...</td>\n",
       "      <td>...</td>\n",
       "      <td>...</td>\n",
       "      <td>...</td>\n",
       "      <td>...</td>\n",
       "      <td>...</td>\n",
       "    </tr>\n",
       "    <tr>\n",
       "      <th>7248</th>\n",
       "      <td>7248</td>\n",
       "      <td>Volkswagen Vento Diesel Trendline</td>\n",
       "      <td>Hyderabad</td>\n",
       "      <td>2011</td>\n",
       "      <td>89411</td>\n",
       "      <td>Diesel</td>\n",
       "      <td>Manual</td>\n",
       "      <td>First</td>\n",
       "      <td>20.54 kmpl</td>\n",
       "      <td>1598 CC</td>\n",
       "      <td>103.6 bhp</td>\n",
       "      <td>5.0</td>\n",
       "      <td>13.23</td>\n",
       "      <td>NaN</td>\n",
       "    </tr>\n",
       "    <tr>\n",
       "      <th>7249</th>\n",
       "      <td>7249</td>\n",
       "      <td>Volkswagen Polo GT TSI</td>\n",
       "      <td>Mumbai</td>\n",
       "      <td>2015</td>\n",
       "      <td>59000</td>\n",
       "      <td>Petrol</td>\n",
       "      <td>Automatic</td>\n",
       "      <td>First</td>\n",
       "      <td>17.21 kmpl</td>\n",
       "      <td>1197 CC</td>\n",
       "      <td>103.6 bhp</td>\n",
       "      <td>5.0</td>\n",
       "      <td>10.15</td>\n",
       "      <td>NaN</td>\n",
       "    </tr>\n",
       "    <tr>\n",
       "      <th>7250</th>\n",
       "      <td>7250</td>\n",
       "      <td>Nissan Micra Diesel XV</td>\n",
       "      <td>Kolkata</td>\n",
       "      <td>2012</td>\n",
       "      <td>28000</td>\n",
       "      <td>Diesel</td>\n",
       "      <td>Manual</td>\n",
       "      <td>First</td>\n",
       "      <td>23.08 kmpl</td>\n",
       "      <td>1461 CC</td>\n",
       "      <td>63.1 bhp</td>\n",
       "      <td>5.0</td>\n",
       "      <td>9.47</td>\n",
       "      <td>NaN</td>\n",
       "    </tr>\n",
       "    <tr>\n",
       "      <th>7251</th>\n",
       "      <td>7251</td>\n",
       "      <td>Volkswagen Polo GT TSI</td>\n",
       "      <td>Pune</td>\n",
       "      <td>2013</td>\n",
       "      <td>52262</td>\n",
       "      <td>Petrol</td>\n",
       "      <td>Automatic</td>\n",
       "      <td>Third</td>\n",
       "      <td>17.2 kmpl</td>\n",
       "      <td>1197 CC</td>\n",
       "      <td>103.6 bhp</td>\n",
       "      <td>5.0</td>\n",
       "      <td>10.15</td>\n",
       "      <td>NaN</td>\n",
       "    </tr>\n",
       "    <tr>\n",
       "      <th>7252</th>\n",
       "      <td>7252</td>\n",
       "      <td>Mercedes-Benz E-Class 2009-2013 E 220 CDI Avan...</td>\n",
       "      <td>Kochi</td>\n",
       "      <td>2014</td>\n",
       "      <td>72443</td>\n",
       "      <td>Diesel</td>\n",
       "      <td>Automatic</td>\n",
       "      <td>First</td>\n",
       "      <td>10.0 kmpl</td>\n",
       "      <td>2148 CC</td>\n",
       "      <td>170 bhp</td>\n",
       "      <td>5.0</td>\n",
       "      <td>86.97</td>\n",
       "      <td>NaN</td>\n",
       "    </tr>\n",
       "  </tbody>\n",
       "</table>\n",
       "<p>7253 rows × 14 columns</p>\n",
       "</div>"
      ],
      "text/plain": [
       "      S.No.                                               Name    Location  \\\n",
       "0         0                             Maruti Wagon R LXI CNG      Mumbai   \n",
       "1         1                   Hyundai Creta 1.6 CRDi SX Option        Pune   \n",
       "2         2                                       Honda Jazz V     Chennai   \n",
       "3         3                                  Maruti Ertiga VDI     Chennai   \n",
       "4         4                    Audi A4 New 2.0 TDI Multitronic  Coimbatore   \n",
       "...     ...                                                ...         ...   \n",
       "7248   7248                  Volkswagen Vento Diesel Trendline   Hyderabad   \n",
       "7249   7249                             Volkswagen Polo GT TSI      Mumbai   \n",
       "7250   7250                             Nissan Micra Diesel XV     Kolkata   \n",
       "7251   7251                             Volkswagen Polo GT TSI        Pune   \n",
       "7252   7252  Mercedes-Benz E-Class 2009-2013 E 220 CDI Avan...       Kochi   \n",
       "\n",
       "      Year  Kilometers_Driven Fuel_Type Transmission Owner_Type     Mileage  \\\n",
       "0     2010              72000       CNG       Manual      First  26.6 km/kg   \n",
       "1     2015              41000    Diesel       Manual      First  19.67 kmpl   \n",
       "2     2011              46000    Petrol       Manual      First   18.2 kmpl   \n",
       "3     2012              87000    Diesel       Manual      First  20.77 kmpl   \n",
       "4     2013              40670    Diesel    Automatic     Second   15.2 kmpl   \n",
       "...    ...                ...       ...          ...        ...         ...   \n",
       "7248  2011              89411    Diesel       Manual      First  20.54 kmpl   \n",
       "7249  2015              59000    Petrol    Automatic      First  17.21 kmpl   \n",
       "7250  2012              28000    Diesel       Manual      First  23.08 kmpl   \n",
       "7251  2013              52262    Petrol    Automatic      Third   17.2 kmpl   \n",
       "7252  2014              72443    Diesel    Automatic      First   10.0 kmpl   \n",
       "\n",
       "       Engine      Power  Seats  New_Price  Price  \n",
       "0      998 CC  58.16 bhp    5.0       5.51   1.75  \n",
       "1     1582 CC  126.2 bhp    5.0      16.06  12.50  \n",
       "2     1199 CC   88.7 bhp    5.0       8.61   4.50  \n",
       "3     1248 CC  88.76 bhp    7.0      11.27   6.00  \n",
       "4     1968 CC  140.8 bhp    5.0      53.14  17.74  \n",
       "...       ...        ...    ...        ...    ...  \n",
       "7248  1598 CC  103.6 bhp    5.0      13.23    NaN  \n",
       "7249  1197 CC  103.6 bhp    5.0      10.15    NaN  \n",
       "7250  1461 CC   63.1 bhp    5.0       9.47    NaN  \n",
       "7251  1197 CC  103.6 bhp    5.0      10.15    NaN  \n",
       "7252  2148 CC    170 bhp    5.0      86.97    NaN  \n",
       "\n",
       "[7253 rows x 14 columns]"
      ]
     },
     "execution_count": 2,
     "metadata": {},
     "output_type": "execute_result"
    }
   ],
   "source": [
    "# Load the data\n",
    "\n",
    "car_used = pd.read_csv(r\"C:\\Users\\Admin\\Desktop\\used_cars_data.csv\")\n",
    "\n",
    "car_used"
   ]
  },
  {
   "cell_type": "code",
   "execution_count": 3,
   "id": "e16b2e64",
   "metadata": {},
   "outputs": [
    {
     "data": {
      "text/html": [
       "<div>\n",
       "<style scoped>\n",
       "    .dataframe tbody tr th:only-of-type {\n",
       "        vertical-align: middle;\n",
       "    }\n",
       "\n",
       "    .dataframe tbody tr th {\n",
       "        vertical-align: top;\n",
       "    }\n",
       "\n",
       "    .dataframe thead th {\n",
       "        text-align: right;\n",
       "    }\n",
       "</style>\n",
       "<table border=\"1\" class=\"dataframe\">\n",
       "  <thead>\n",
       "    <tr style=\"text-align: right;\">\n",
       "      <th></th>\n",
       "      <th>S.No.</th>\n",
       "      <th>Name</th>\n",
       "      <th>Location</th>\n",
       "      <th>Year</th>\n",
       "      <th>Kilometers_Driven</th>\n",
       "      <th>Fuel_Type</th>\n",
       "      <th>Transmission</th>\n",
       "      <th>Owner_Type</th>\n",
       "      <th>Mileage</th>\n",
       "      <th>Engine</th>\n",
       "      <th>Power</th>\n",
       "      <th>Seats</th>\n",
       "      <th>New_Price</th>\n",
       "      <th>Price</th>\n",
       "    </tr>\n",
       "  </thead>\n",
       "  <tbody>\n",
       "    <tr>\n",
       "      <th>0</th>\n",
       "      <td>0</td>\n",
       "      <td>Maruti Wagon R LXI CNG</td>\n",
       "      <td>Mumbai</td>\n",
       "      <td>2010</td>\n",
       "      <td>72000</td>\n",
       "      <td>CNG</td>\n",
       "      <td>Manual</td>\n",
       "      <td>First</td>\n",
       "      <td>26.6 km/kg</td>\n",
       "      <td>998 CC</td>\n",
       "      <td>58.16 bhp</td>\n",
       "      <td>5.0</td>\n",
       "      <td>5.51</td>\n",
       "      <td>1.75</td>\n",
       "    </tr>\n",
       "    <tr>\n",
       "      <th>1</th>\n",
       "      <td>1</td>\n",
       "      <td>Hyundai Creta 1.6 CRDi SX Option</td>\n",
       "      <td>Pune</td>\n",
       "      <td>2015</td>\n",
       "      <td>41000</td>\n",
       "      <td>Diesel</td>\n",
       "      <td>Manual</td>\n",
       "      <td>First</td>\n",
       "      <td>19.67 kmpl</td>\n",
       "      <td>1582 CC</td>\n",
       "      <td>126.2 bhp</td>\n",
       "      <td>5.0</td>\n",
       "      <td>16.06</td>\n",
       "      <td>12.50</td>\n",
       "    </tr>\n",
       "    <tr>\n",
       "      <th>2</th>\n",
       "      <td>2</td>\n",
       "      <td>Honda Jazz V</td>\n",
       "      <td>Chennai</td>\n",
       "      <td>2011</td>\n",
       "      <td>46000</td>\n",
       "      <td>Petrol</td>\n",
       "      <td>Manual</td>\n",
       "      <td>First</td>\n",
       "      <td>18.2 kmpl</td>\n",
       "      <td>1199 CC</td>\n",
       "      <td>88.7 bhp</td>\n",
       "      <td>5.0</td>\n",
       "      <td>8.61</td>\n",
       "      <td>4.50</td>\n",
       "    </tr>\n",
       "    <tr>\n",
       "      <th>3</th>\n",
       "      <td>3</td>\n",
       "      <td>Maruti Ertiga VDI</td>\n",
       "      <td>Chennai</td>\n",
       "      <td>2012</td>\n",
       "      <td>87000</td>\n",
       "      <td>Diesel</td>\n",
       "      <td>Manual</td>\n",
       "      <td>First</td>\n",
       "      <td>20.77 kmpl</td>\n",
       "      <td>1248 CC</td>\n",
       "      <td>88.76 bhp</td>\n",
       "      <td>7.0</td>\n",
       "      <td>11.27</td>\n",
       "      <td>6.00</td>\n",
       "    </tr>\n",
       "    <tr>\n",
       "      <th>4</th>\n",
       "      <td>4</td>\n",
       "      <td>Audi A4 New 2.0 TDI Multitronic</td>\n",
       "      <td>Coimbatore</td>\n",
       "      <td>2013</td>\n",
       "      <td>40670</td>\n",
       "      <td>Diesel</td>\n",
       "      <td>Automatic</td>\n",
       "      <td>Second</td>\n",
       "      <td>15.2 kmpl</td>\n",
       "      <td>1968 CC</td>\n",
       "      <td>140.8 bhp</td>\n",
       "      <td>5.0</td>\n",
       "      <td>53.14</td>\n",
       "      <td>17.74</td>\n",
       "    </tr>\n",
       "    <tr>\n",
       "      <th>5</th>\n",
       "      <td>5</td>\n",
       "      <td>Hyundai EON LPG Era Plus Option</td>\n",
       "      <td>Hyderabad</td>\n",
       "      <td>2012</td>\n",
       "      <td>75000</td>\n",
       "      <td>LPG</td>\n",
       "      <td>Manual</td>\n",
       "      <td>First</td>\n",
       "      <td>21.1 km/kg</td>\n",
       "      <td>814 CC</td>\n",
       "      <td>55.2 bhp</td>\n",
       "      <td>5.0</td>\n",
       "      <td>10.25</td>\n",
       "      <td>2.35</td>\n",
       "    </tr>\n",
       "    <tr>\n",
       "      <th>6</th>\n",
       "      <td>6</td>\n",
       "      <td>Nissan Micra Diesel XV</td>\n",
       "      <td>Jaipur</td>\n",
       "      <td>2013</td>\n",
       "      <td>86999</td>\n",
       "      <td>Diesel</td>\n",
       "      <td>Manual</td>\n",
       "      <td>First</td>\n",
       "      <td>23.08 kmpl</td>\n",
       "      <td>1461 CC</td>\n",
       "      <td>63.1 bhp</td>\n",
       "      <td>5.0</td>\n",
       "      <td>9.47</td>\n",
       "      <td>3.50</td>\n",
       "    </tr>\n",
       "    <tr>\n",
       "      <th>7</th>\n",
       "      <td>7</td>\n",
       "      <td>Toyota Innova Crysta 2.8 GX AT 8S</td>\n",
       "      <td>Mumbai</td>\n",
       "      <td>2016</td>\n",
       "      <td>36000</td>\n",
       "      <td>Diesel</td>\n",
       "      <td>Automatic</td>\n",
       "      <td>First</td>\n",
       "      <td>11.36 kmpl</td>\n",
       "      <td>2755 CC</td>\n",
       "      <td>171.5 bhp</td>\n",
       "      <td>8.0</td>\n",
       "      <td>21.00</td>\n",
       "      <td>17.50</td>\n",
       "    </tr>\n",
       "    <tr>\n",
       "      <th>8</th>\n",
       "      <td>8</td>\n",
       "      <td>Volkswagen Vento Diesel Comfortline</td>\n",
       "      <td>Pune</td>\n",
       "      <td>2013</td>\n",
       "      <td>64430</td>\n",
       "      <td>Diesel</td>\n",
       "      <td>Manual</td>\n",
       "      <td>First</td>\n",
       "      <td>20.54 kmpl</td>\n",
       "      <td>1598 CC</td>\n",
       "      <td>103.6 bhp</td>\n",
       "      <td>5.0</td>\n",
       "      <td>13.23</td>\n",
       "      <td>5.20</td>\n",
       "    </tr>\n",
       "    <tr>\n",
       "      <th>9</th>\n",
       "      <td>9</td>\n",
       "      <td>Tata Indica Vista Quadrajet LS</td>\n",
       "      <td>Chennai</td>\n",
       "      <td>2012</td>\n",
       "      <td>65932</td>\n",
       "      <td>Diesel</td>\n",
       "      <td>Manual</td>\n",
       "      <td>Second</td>\n",
       "      <td>22.3 kmpl</td>\n",
       "      <td>1248 CC</td>\n",
       "      <td>74 bhp</td>\n",
       "      <td>5.0</td>\n",
       "      <td>7.63</td>\n",
       "      <td>1.95</td>\n",
       "    </tr>\n",
       "  </tbody>\n",
       "</table>\n",
       "</div>"
      ],
      "text/plain": [
       "   S.No.                                 Name    Location  Year  \\\n",
       "0      0               Maruti Wagon R LXI CNG      Mumbai  2010   \n",
       "1      1     Hyundai Creta 1.6 CRDi SX Option        Pune  2015   \n",
       "2      2                         Honda Jazz V     Chennai  2011   \n",
       "3      3                    Maruti Ertiga VDI     Chennai  2012   \n",
       "4      4      Audi A4 New 2.0 TDI Multitronic  Coimbatore  2013   \n",
       "5      5      Hyundai EON LPG Era Plus Option   Hyderabad  2012   \n",
       "6      6               Nissan Micra Diesel XV      Jaipur  2013   \n",
       "7      7    Toyota Innova Crysta 2.8 GX AT 8S      Mumbai  2016   \n",
       "8      8  Volkswagen Vento Diesel Comfortline        Pune  2013   \n",
       "9      9       Tata Indica Vista Quadrajet LS     Chennai  2012   \n",
       "\n",
       "   Kilometers_Driven Fuel_Type Transmission Owner_Type     Mileage   Engine  \\\n",
       "0              72000       CNG       Manual      First  26.6 km/kg   998 CC   \n",
       "1              41000    Diesel       Manual      First  19.67 kmpl  1582 CC   \n",
       "2              46000    Petrol       Manual      First   18.2 kmpl  1199 CC   \n",
       "3              87000    Diesel       Manual      First  20.77 kmpl  1248 CC   \n",
       "4              40670    Diesel    Automatic     Second   15.2 kmpl  1968 CC   \n",
       "5              75000       LPG       Manual      First  21.1 km/kg   814 CC   \n",
       "6              86999    Diesel       Manual      First  23.08 kmpl  1461 CC   \n",
       "7              36000    Diesel    Automatic      First  11.36 kmpl  2755 CC   \n",
       "8              64430    Diesel       Manual      First  20.54 kmpl  1598 CC   \n",
       "9              65932    Diesel       Manual     Second   22.3 kmpl  1248 CC   \n",
       "\n",
       "       Power  Seats  New_Price  Price  \n",
       "0  58.16 bhp    5.0       5.51   1.75  \n",
       "1  126.2 bhp    5.0      16.06  12.50  \n",
       "2   88.7 bhp    5.0       8.61   4.50  \n",
       "3  88.76 bhp    7.0      11.27   6.00  \n",
       "4  140.8 bhp    5.0      53.14  17.74  \n",
       "5   55.2 bhp    5.0      10.25   2.35  \n",
       "6   63.1 bhp    5.0       9.47   3.50  \n",
       "7  171.5 bhp    8.0      21.00  17.50  \n",
       "8  103.6 bhp    5.0      13.23   5.20  \n",
       "9     74 bhp    5.0       7.63   1.95  "
      ]
     },
     "execution_count": 3,
     "metadata": {},
     "output_type": "execute_result"
    }
   ],
   "source": [
    "# To check the first 10 rows of the data\n",
    "\n",
    "car_used.head(10)"
   ]
  },
  {
   "cell_type": "code",
   "execution_count": 4,
   "id": "0b38117a",
   "metadata": {},
   "outputs": [
    {
     "data": {
      "text/html": [
       "<div>\n",
       "<style scoped>\n",
       "    .dataframe tbody tr th:only-of-type {\n",
       "        vertical-align: middle;\n",
       "    }\n",
       "\n",
       "    .dataframe tbody tr th {\n",
       "        vertical-align: top;\n",
       "    }\n",
       "\n",
       "    .dataframe thead th {\n",
       "        text-align: right;\n",
       "    }\n",
       "</style>\n",
       "<table border=\"1\" class=\"dataframe\">\n",
       "  <thead>\n",
       "    <tr style=\"text-align: right;\">\n",
       "      <th></th>\n",
       "      <th>S.No.</th>\n",
       "      <th>Name</th>\n",
       "      <th>Location</th>\n",
       "      <th>Year</th>\n",
       "      <th>Kilometers_Driven</th>\n",
       "      <th>Fuel_Type</th>\n",
       "      <th>Transmission</th>\n",
       "      <th>Owner_Type</th>\n",
       "      <th>Mileage</th>\n",
       "      <th>Engine</th>\n",
       "      <th>Power</th>\n",
       "      <th>Seats</th>\n",
       "      <th>New_Price</th>\n",
       "      <th>Price</th>\n",
       "    </tr>\n",
       "  </thead>\n",
       "  <tbody>\n",
       "    <tr>\n",
       "      <th>4499</th>\n",
       "      <td>4499</td>\n",
       "      <td>Toyota Fortuner 3.0 Diesel</td>\n",
       "      <td>Hyderabad</td>\n",
       "      <td>2010</td>\n",
       "      <td>193254</td>\n",
       "      <td>Diesel</td>\n",
       "      <td>Manual</td>\n",
       "      <td>First</td>\n",
       "      <td>11.5 kmpl</td>\n",
       "      <td>2982 CC</td>\n",
       "      <td>171 bhp</td>\n",
       "      <td>7.0</td>\n",
       "      <td>37.17</td>\n",
       "      <td>12.99</td>\n",
       "    </tr>\n",
       "    <tr>\n",
       "      <th>365</th>\n",
       "      <td>365</td>\n",
       "      <td>Mini Clubman Cooper S</td>\n",
       "      <td>Pune</td>\n",
       "      <td>2017</td>\n",
       "      <td>8350</td>\n",
       "      <td>Petrol</td>\n",
       "      <td>Manual</td>\n",
       "      <td>First</td>\n",
       "      <td>13.8 kmpl</td>\n",
       "      <td>1998 CC</td>\n",
       "      <td>192 bhp</td>\n",
       "      <td>5.0</td>\n",
       "      <td>44.59</td>\n",
       "      <td>35.00</td>\n",
       "    </tr>\n",
       "    <tr>\n",
       "      <th>5764</th>\n",
       "      <td>5764</td>\n",
       "      <td>Maruti Alto K10 2010-2014 VXI</td>\n",
       "      <td>Hyderabad</td>\n",
       "      <td>2011</td>\n",
       "      <td>78000</td>\n",
       "      <td>Petrol</td>\n",
       "      <td>Manual</td>\n",
       "      <td>Second</td>\n",
       "      <td>20.92 kmpl</td>\n",
       "      <td>998 CC</td>\n",
       "      <td>67.1 bhp</td>\n",
       "      <td>5.0</td>\n",
       "      <td>4.36</td>\n",
       "      <td>2.30</td>\n",
       "    </tr>\n",
       "    <tr>\n",
       "      <th>2715</th>\n",
       "      <td>2715</td>\n",
       "      <td>Maruti Swift AMT DDiS VDI</td>\n",
       "      <td>Chennai</td>\n",
       "      <td>2018</td>\n",
       "      <td>11000</td>\n",
       "      <td>Diesel</td>\n",
       "      <td>Manual</td>\n",
       "      <td>First</td>\n",
       "      <td>28.4 kmpl</td>\n",
       "      <td>1248 CC</td>\n",
       "      <td>74 bhp</td>\n",
       "      <td>5.0</td>\n",
       "      <td>7.88</td>\n",
       "      <td>8.00</td>\n",
       "    </tr>\n",
       "    <tr>\n",
       "      <th>4378</th>\n",
       "      <td>4378</td>\n",
       "      <td>Hyundai Xcent 1.1 CRDi S</td>\n",
       "      <td>Mumbai</td>\n",
       "      <td>2016</td>\n",
       "      <td>29000</td>\n",
       "      <td>Diesel</td>\n",
       "      <td>Manual</td>\n",
       "      <td>First</td>\n",
       "      <td>24.4 kmpl</td>\n",
       "      <td>1120 CC</td>\n",
       "      <td>71 bhp</td>\n",
       "      <td>5.0</td>\n",
       "      <td>8.23</td>\n",
       "      <td>5.95</td>\n",
       "    </tr>\n",
       "  </tbody>\n",
       "</table>\n",
       "</div>"
      ],
      "text/plain": [
       "      S.No.                           Name   Location  Year  \\\n",
       "4499   4499     Toyota Fortuner 3.0 Diesel  Hyderabad  2010   \n",
       "365     365          Mini Clubman Cooper S       Pune  2017   \n",
       "5764   5764  Maruti Alto K10 2010-2014 VXI  Hyderabad  2011   \n",
       "2715   2715      Maruti Swift AMT DDiS VDI    Chennai  2018   \n",
       "4378   4378       Hyundai Xcent 1.1 CRDi S     Mumbai  2016   \n",
       "\n",
       "      Kilometers_Driven Fuel_Type Transmission Owner_Type     Mileage  \\\n",
       "4499             193254    Diesel       Manual      First   11.5 kmpl   \n",
       "365                8350    Petrol       Manual      First   13.8 kmpl   \n",
       "5764              78000    Petrol       Manual     Second  20.92 kmpl   \n",
       "2715              11000    Diesel       Manual      First   28.4 kmpl   \n",
       "4378              29000    Diesel       Manual      First   24.4 kmpl   \n",
       "\n",
       "       Engine     Power  Seats  New_Price  Price  \n",
       "4499  2982 CC   171 bhp    7.0      37.17  12.99  \n",
       "365   1998 CC   192 bhp    5.0      44.59  35.00  \n",
       "5764   998 CC  67.1 bhp    5.0       4.36   2.30  \n",
       "2715  1248 CC    74 bhp    5.0       7.88   8.00  \n",
       "4378  1120 CC    71 bhp    5.0       8.23   5.95  "
      ]
     },
     "execution_count": 4,
     "metadata": {},
     "output_type": "execute_result"
    }
   ],
   "source": [
    "# To check any 5 rows randomly in the data\n",
    "\n",
    "car_used.sample(5)"
   ]
  },
  {
   "cell_type": "code",
   "execution_count": 5,
   "id": "a9d10a46",
   "metadata": {},
   "outputs": [
    {
     "data": {
      "text/plain": [
       "(7253, 14)"
      ]
     },
     "execution_count": 5,
     "metadata": {},
     "output_type": "execute_result"
    }
   ],
   "source": [
    "# To check the dimension of the data\n",
    "\n",
    "car_used.shape"
   ]
  },
  {
   "cell_type": "markdown",
   "id": "af08ae77",
   "metadata": {},
   "source": [
    "- There are 7253 rows and 14 columns in the data"
   ]
  },
  {
   "cell_type": "code",
   "execution_count": 6,
   "id": "f1c66197",
   "metadata": {},
   "outputs": [
    {
     "name": "stdout",
     "output_type": "stream",
     "text": [
      "<class 'pandas.core.frame.DataFrame'>\n",
      "RangeIndex: 7253 entries, 0 to 7252\n",
      "Data columns (total 14 columns):\n",
      " #   Column             Non-Null Count  Dtype  \n",
      "---  ------             --------------  -----  \n",
      " 0   S.No.              7253 non-null   int64  \n",
      " 1   Name               7253 non-null   object \n",
      " 2   Location           7253 non-null   object \n",
      " 3   Year               7253 non-null   int64  \n",
      " 4   Kilometers_Driven  7253 non-null   int64  \n",
      " 5   Fuel_Type          7253 non-null   object \n",
      " 6   Transmission       7253 non-null   object \n",
      " 7   Owner_Type         7253 non-null   object \n",
      " 8   Mileage            7251 non-null   object \n",
      " 9   Engine             7207 non-null   object \n",
      " 10  Power              7078 non-null   object \n",
      " 11  Seats              7200 non-null   float64\n",
      " 12  New_Price          7253 non-null   float64\n",
      " 13  Price              6019 non-null   float64\n",
      "dtypes: float64(3), int64(3), object(8)\n",
      "memory usage: 793.4+ KB\n"
     ]
    }
   ],
   "source": [
    "# To check the data types\n",
    "\n",
    "car_used.info()"
   ]
  },
  {
   "cell_type": "markdown",
   "id": "faebc247",
   "metadata": {},
   "source": [
    "- There are 8 categorical and 6 numerical variables in the data\n",
    "- The data occpies 793KB memory space\n",
    "- There are missing values in the data"
   ]
  },
  {
   "cell_type": "code",
   "execution_count": 7,
   "id": "d95bcdbf",
   "metadata": {},
   "outputs": [
    {
     "data": {
      "text/html": [
       "<div>\n",
       "<style scoped>\n",
       "    .dataframe tbody tr th:only-of-type {\n",
       "        vertical-align: middle;\n",
       "    }\n",
       "\n",
       "    .dataframe tbody tr th {\n",
       "        vertical-align: top;\n",
       "    }\n",
       "\n",
       "    .dataframe thead th {\n",
       "        text-align: right;\n",
       "    }\n",
       "</style>\n",
       "<table border=\"1\" class=\"dataframe\">\n",
       "  <thead>\n",
       "    <tr style=\"text-align: right;\">\n",
       "      <th></th>\n",
       "      <th>S.No.</th>\n",
       "      <th>Name</th>\n",
       "      <th>Location</th>\n",
       "      <th>Year</th>\n",
       "      <th>Kilometers_Driven</th>\n",
       "      <th>Fuel_Type</th>\n",
       "      <th>Transmission</th>\n",
       "      <th>Owner_Type</th>\n",
       "      <th>Mileage</th>\n",
       "      <th>Engine</th>\n",
       "      <th>Power</th>\n",
       "      <th>Seats</th>\n",
       "      <th>New_Price</th>\n",
       "      <th>Price</th>\n",
       "    </tr>\n",
       "  </thead>\n",
       "  <tbody>\n",
       "    <tr>\n",
       "      <th>count</th>\n",
       "      <td>7253.000000</td>\n",
       "      <td>7253</td>\n",
       "      <td>7253</td>\n",
       "      <td>7253.000000</td>\n",
       "      <td>7.253000e+03</td>\n",
       "      <td>7253</td>\n",
       "      <td>7253</td>\n",
       "      <td>7253</td>\n",
       "      <td>7251</td>\n",
       "      <td>7207</td>\n",
       "      <td>7078</td>\n",
       "      <td>7200.000000</td>\n",
       "      <td>7253.000000</td>\n",
       "      <td>6019.000000</td>\n",
       "    </tr>\n",
       "    <tr>\n",
       "      <th>unique</th>\n",
       "      <td>NaN</td>\n",
       "      <td>2041</td>\n",
       "      <td>11</td>\n",
       "      <td>NaN</td>\n",
       "      <td>NaN</td>\n",
       "      <td>5</td>\n",
       "      <td>2</td>\n",
       "      <td>4</td>\n",
       "      <td>450</td>\n",
       "      <td>150</td>\n",
       "      <td>385</td>\n",
       "      <td>NaN</td>\n",
       "      <td>NaN</td>\n",
       "      <td>NaN</td>\n",
       "    </tr>\n",
       "    <tr>\n",
       "      <th>top</th>\n",
       "      <td>NaN</td>\n",
       "      <td>Mahindra XUV500 W8 2WD</td>\n",
       "      <td>Mumbai</td>\n",
       "      <td>NaN</td>\n",
       "      <td>NaN</td>\n",
       "      <td>Diesel</td>\n",
       "      <td>Manual</td>\n",
       "      <td>First</td>\n",
       "      <td>17.0 kmpl</td>\n",
       "      <td>1197 CC</td>\n",
       "      <td>74 bhp</td>\n",
       "      <td>NaN</td>\n",
       "      <td>NaN</td>\n",
       "      <td>NaN</td>\n",
       "    </tr>\n",
       "    <tr>\n",
       "      <th>freq</th>\n",
       "      <td>NaN</td>\n",
       "      <td>55</td>\n",
       "      <td>949</td>\n",
       "      <td>NaN</td>\n",
       "      <td>NaN</td>\n",
       "      <td>3852</td>\n",
       "      <td>5204</td>\n",
       "      <td>5952</td>\n",
       "      <td>207</td>\n",
       "      <td>732</td>\n",
       "      <td>280</td>\n",
       "      <td>NaN</td>\n",
       "      <td>NaN</td>\n",
       "      <td>NaN</td>\n",
       "    </tr>\n",
       "    <tr>\n",
       "      <th>mean</th>\n",
       "      <td>3626.000000</td>\n",
       "      <td>NaN</td>\n",
       "      <td>NaN</td>\n",
       "      <td>2013.365366</td>\n",
       "      <td>5.869906e+04</td>\n",
       "      <td>NaN</td>\n",
       "      <td>NaN</td>\n",
       "      <td>NaN</td>\n",
       "      <td>NaN</td>\n",
       "      <td>NaN</td>\n",
       "      <td>NaN</td>\n",
       "      <td>5.279722</td>\n",
       "      <td>21.307322</td>\n",
       "      <td>9.479468</td>\n",
       "    </tr>\n",
       "    <tr>\n",
       "      <th>std</th>\n",
       "      <td>2093.905084</td>\n",
       "      <td>NaN</td>\n",
       "      <td>NaN</td>\n",
       "      <td>3.254421</td>\n",
       "      <td>8.442772e+04</td>\n",
       "      <td>NaN</td>\n",
       "      <td>NaN</td>\n",
       "      <td>NaN</td>\n",
       "      <td>NaN</td>\n",
       "      <td>NaN</td>\n",
       "      <td>NaN</td>\n",
       "      <td>0.811660</td>\n",
       "      <td>24.256314</td>\n",
       "      <td>11.187917</td>\n",
       "    </tr>\n",
       "    <tr>\n",
       "      <th>min</th>\n",
       "      <td>0.000000</td>\n",
       "      <td>NaN</td>\n",
       "      <td>NaN</td>\n",
       "      <td>1996.000000</td>\n",
       "      <td>1.710000e+02</td>\n",
       "      <td>NaN</td>\n",
       "      <td>NaN</td>\n",
       "      <td>NaN</td>\n",
       "      <td>NaN</td>\n",
       "      <td>NaN</td>\n",
       "      <td>NaN</td>\n",
       "      <td>0.000000</td>\n",
       "      <td>3.910000</td>\n",
       "      <td>0.440000</td>\n",
       "    </tr>\n",
       "    <tr>\n",
       "      <th>25%</th>\n",
       "      <td>1813.000000</td>\n",
       "      <td>NaN</td>\n",
       "      <td>NaN</td>\n",
       "      <td>2011.000000</td>\n",
       "      <td>3.400000e+04</td>\n",
       "      <td>NaN</td>\n",
       "      <td>NaN</td>\n",
       "      <td>NaN</td>\n",
       "      <td>NaN</td>\n",
       "      <td>NaN</td>\n",
       "      <td>NaN</td>\n",
       "      <td>5.000000</td>\n",
       "      <td>7.880000</td>\n",
       "      <td>3.500000</td>\n",
       "    </tr>\n",
       "    <tr>\n",
       "      <th>50%</th>\n",
       "      <td>3626.000000</td>\n",
       "      <td>NaN</td>\n",
       "      <td>NaN</td>\n",
       "      <td>2014.000000</td>\n",
       "      <td>5.341600e+04</td>\n",
       "      <td>NaN</td>\n",
       "      <td>NaN</td>\n",
       "      <td>NaN</td>\n",
       "      <td>NaN</td>\n",
       "      <td>NaN</td>\n",
       "      <td>NaN</td>\n",
       "      <td>5.000000</td>\n",
       "      <td>11.300000</td>\n",
       "      <td>5.640000</td>\n",
       "    </tr>\n",
       "    <tr>\n",
       "      <th>75%</th>\n",
       "      <td>5439.000000</td>\n",
       "      <td>NaN</td>\n",
       "      <td>NaN</td>\n",
       "      <td>2016.000000</td>\n",
       "      <td>7.300000e+04</td>\n",
       "      <td>NaN</td>\n",
       "      <td>NaN</td>\n",
       "      <td>NaN</td>\n",
       "      <td>NaN</td>\n",
       "      <td>NaN</td>\n",
       "      <td>NaN</td>\n",
       "      <td>5.000000</td>\n",
       "      <td>21.690000</td>\n",
       "      <td>9.950000</td>\n",
       "    </tr>\n",
       "    <tr>\n",
       "      <th>max</th>\n",
       "      <td>7252.000000</td>\n",
       "      <td>NaN</td>\n",
       "      <td>NaN</td>\n",
       "      <td>2019.000000</td>\n",
       "      <td>6.500000e+06</td>\n",
       "      <td>NaN</td>\n",
       "      <td>NaN</td>\n",
       "      <td>NaN</td>\n",
       "      <td>NaN</td>\n",
       "      <td>NaN</td>\n",
       "      <td>NaN</td>\n",
       "      <td>10.000000</td>\n",
       "      <td>375.000000</td>\n",
       "      <td>160.000000</td>\n",
       "    </tr>\n",
       "  </tbody>\n",
       "</table>\n",
       "</div>"
      ],
      "text/plain": [
       "              S.No.                    Name Location         Year  \\\n",
       "count   7253.000000                    7253     7253  7253.000000   \n",
       "unique          NaN                    2041       11          NaN   \n",
       "top             NaN  Mahindra XUV500 W8 2WD   Mumbai          NaN   \n",
       "freq            NaN                      55      949          NaN   \n",
       "mean    3626.000000                     NaN      NaN  2013.365366   \n",
       "std     2093.905084                     NaN      NaN     3.254421   \n",
       "min        0.000000                     NaN      NaN  1996.000000   \n",
       "25%     1813.000000                     NaN      NaN  2011.000000   \n",
       "50%     3626.000000                     NaN      NaN  2014.000000   \n",
       "75%     5439.000000                     NaN      NaN  2016.000000   \n",
       "max     7252.000000                     NaN      NaN  2019.000000   \n",
       "\n",
       "        Kilometers_Driven Fuel_Type Transmission Owner_Type    Mileage  \\\n",
       "count        7.253000e+03      7253         7253       7253       7251   \n",
       "unique                NaN         5            2          4        450   \n",
       "top                   NaN    Diesel       Manual      First  17.0 kmpl   \n",
       "freq                  NaN      3852         5204       5952        207   \n",
       "mean         5.869906e+04       NaN          NaN        NaN        NaN   \n",
       "std          8.442772e+04       NaN          NaN        NaN        NaN   \n",
       "min          1.710000e+02       NaN          NaN        NaN        NaN   \n",
       "25%          3.400000e+04       NaN          NaN        NaN        NaN   \n",
       "50%          5.341600e+04       NaN          NaN        NaN        NaN   \n",
       "75%          7.300000e+04       NaN          NaN        NaN        NaN   \n",
       "max          6.500000e+06       NaN          NaN        NaN        NaN   \n",
       "\n",
       "         Engine   Power        Seats    New_Price        Price  \n",
       "count      7207    7078  7200.000000  7253.000000  6019.000000  \n",
       "unique      150     385          NaN          NaN          NaN  \n",
       "top     1197 CC  74 bhp          NaN          NaN          NaN  \n",
       "freq        732     280          NaN          NaN          NaN  \n",
       "mean        NaN     NaN     5.279722    21.307322     9.479468  \n",
       "std         NaN     NaN     0.811660    24.256314    11.187917  \n",
       "min         NaN     NaN     0.000000     3.910000     0.440000  \n",
       "25%         NaN     NaN     5.000000     7.880000     3.500000  \n",
       "50%         NaN     NaN     5.000000    11.300000     5.640000  \n",
       "75%         NaN     NaN     5.000000    21.690000     9.950000  \n",
       "max         NaN     NaN    10.000000   375.000000   160.000000  "
      ]
     },
     "execution_count": 7,
     "metadata": {},
     "output_type": "execute_result"
    }
   ],
   "source": [
    "# To check the describe statistics\n",
    "\n",
    "car_used.describe(include=\"all\")"
   ]
  },
  {
   "cell_type": "markdown",
   "id": "03ee7351",
   "metadata": {},
   "source": [
    "**Obseervation**\n",
    "\n",
    "- The top location in the data is Munbai and there are 11 unique locations \n",
    "- The top  brand and model name is Mahindra XUV500 W82WD \n",
    "- The New_Price varies from 3.91 to 375 dollars\n",
    "- The Price varies from 0.44 to 160 dollars\n",
    "- The transmission power has 2 unique number but manual is the most frequent\n",
    "- The fuel_type has 5 unique fuels but diesel is the top"
   ]
  },
  {
   "cell_type": "code",
   "execution_count": 8,
   "id": "4be09787",
   "metadata": {},
   "outputs": [],
   "source": [
    "# To create a copy of the data\n",
    "\n",
    "car = car_used.copy()"
   ]
  },
  {
   "cell_type": "code",
   "execution_count": 9,
   "id": "6faf8496",
   "metadata": {},
   "outputs": [
    {
     "data": {
      "text/plain": [
       "0"
      ]
     },
     "execution_count": 9,
     "metadata": {},
     "output_type": "execute_result"
    }
   ],
   "source": [
    "# To check for duplication\n",
    "\n",
    "car.duplicated().sum()"
   ]
  },
  {
   "cell_type": "markdown",
   "id": "5ebf4e1b",
   "metadata": {},
   "source": [
    "- There is no missing values in the data"
   ]
  },
  {
   "cell_type": "code",
   "execution_count": 10,
   "id": "b80c4eea",
   "metadata": {},
   "outputs": [
    {
     "data": {
      "text/plain": [
       "S.No.                   0\n",
       "Name                    0\n",
       "Location                0\n",
       "Year                    0\n",
       "Kilometers_Driven       0\n",
       "Fuel_Type               0\n",
       "Transmission            0\n",
       "Owner_Type              0\n",
       "Mileage                 2\n",
       "Engine                 46\n",
       "Power                 175\n",
       "Seats                  53\n",
       "New_Price               0\n",
       "Price                1234\n",
       "dtype: int64"
      ]
     },
     "execution_count": 10,
     "metadata": {},
     "output_type": "execute_result"
    }
   ],
   "source": [
    "# To check the missing values in the data\n",
    "\n",
    "car.isna().sum()"
   ]
  },
  {
   "cell_type": "markdown",
   "id": "80f0354f",
   "metadata": {},
   "source": [
    "- There are missing values in the data\n",
    "\n",
    "### Filling the missing values in the target"
   ]
  },
  {
   "cell_type": "code",
   "execution_count": 11,
   "id": "249d4242",
   "metadata": {},
   "outputs": [
    {
     "data": {
      "text/plain": [
       "1234"
      ]
     },
     "execution_count": 11,
     "metadata": {},
     "output_type": "execute_result"
    }
   ],
   "source": [
    "# To check the missing value in the target alone\n",
    "\n",
    "car[\"Price\"].isna().sum()"
   ]
  },
  {
   "cell_type": "markdown",
   "id": "8b40729c",
   "metadata": {},
   "source": [
    "- There are 1,234 missing values in the target variable alone\n",
    "\n",
    "# Strategy\n",
    "\n",
    "- Filling the missing values of 1,234 with the computation (mean or median) will make the data unreliable and questions the\n",
    "efficiency of our model's performances. Hence the missing values in the target will be dropped"
   ]
  },
  {
   "cell_type": "code",
   "execution_count": 12,
   "id": "422c1919",
   "metadata": {},
   "outputs": [],
   "source": [
    "# To drop the missing values in the target variable \"Price\"\n",
    "\n",
    "car.dropna(subset=[\"Price\"], inplace =True)"
   ]
  },
  {
   "cell_type": "code",
   "execution_count": 13,
   "id": "952953d4",
   "metadata": {},
   "outputs": [],
   "source": [
    "# To reset the index after dropping the missing values in the data\n",
    "\n",
    "car.reset_index(drop =True, inplace=True)"
   ]
  },
  {
   "cell_type": "code",
   "execution_count": 14,
   "id": "8981223a",
   "metadata": {},
   "outputs": [
    {
     "data": {
      "text/plain": [
       "S.No.                  0\n",
       "Name                   0\n",
       "Location               0\n",
       "Year                   0\n",
       "Kilometers_Driven      0\n",
       "Fuel_Type              0\n",
       "Transmission           0\n",
       "Owner_Type             0\n",
       "Mileage                2\n",
       "Engine                36\n",
       "Power                143\n",
       "Seats                 42\n",
       "New_Price              0\n",
       "Price                  0\n",
       "dtype: int64"
      ]
     },
     "execution_count": 14,
     "metadata": {},
     "output_type": "execute_result"
    }
   ],
   "source": [
    "# To check the missing values in the rest of the data\n",
    "\n",
    "car.isna().sum()"
   ]
  },
  {
   "cell_type": "markdown",
   "id": "d5b8654f",
   "metadata": {},
   "source": [
    "### Filling the missing value in the \"Power\" variable"
   ]
  },
  {
   "cell_type": "code",
   "execution_count": 15,
   "id": "6307012b",
   "metadata": {},
   "outputs": [
    {
     "data": {
      "text/plain": [
       "143"
      ]
     },
     "execution_count": 15,
     "metadata": {},
     "output_type": "execute_result"
    }
   ],
   "source": [
    "# To confirm the missing values in the Power\n",
    "\n",
    "car[\"Power\"].isnull().sum()"
   ]
  },
  {
   "cell_type": "markdown",
   "id": "ed685018",
   "metadata": {},
   "source": [
    "- There are 143 missing values in the power"
   ]
  },
  {
   "cell_type": "code",
   "execution_count": 16,
   "id": "85d53e54",
   "metadata": {},
   "outputs": [
    {
     "data": {
      "text/plain": [
       "array(['58.16 bhp', '126.2 bhp', '88.7 bhp', '88.76 bhp', '140.8 bhp',\n",
       "       '55.2 bhp', '63.1 bhp', '171.5 bhp', '103.6 bhp', '74 bhp',\n",
       "       '103.25 bhp', '116.3 bhp', '187.7 bhp', '115 bhp', '175.56 bhp',\n",
       "       '98.6 bhp', '83.8 bhp', '167.62 bhp', '190 bhp', '88.5 bhp',\n",
       "       '177.01 bhp', '80 bhp', '67.1 bhp', '102 bhp', '108.45 bhp',\n",
       "       '138.1 bhp', '184 bhp', '179.5 bhp', '103.5 bhp', '64 bhp',\n",
       "       '82 bhp', '254.8 bhp', '73.9 bhp', '46.3 bhp', '37.5 bhp',\n",
       "       '77 bhp', '82.9 bhp', '149.92 bhp', '138.03 bhp', '112.2 bhp',\n",
       "       '163.7 bhp', '71 bhp', '105 bhp', '174.33 bhp', '75 bhp',\n",
       "       '103.2 bhp', '53.3 bhp', '78.9 bhp', '147.6 bhp', '147.8 bhp',\n",
       "       '68 bhp', '186 bhp', '170 bhp', '69 bhp', '140 bhp', '78 bhp',\n",
       "       '194 bhp', '500 bhp', '108.5 bhp', '86.8 bhp', '187.74 bhp', nan,\n",
       "       '132 bhp', '86.7 bhp', '73.94 bhp', '117.3 bhp', '218 bhp',\n",
       "       '168.5 bhp', '89.84 bhp', '110 bhp', '90 bhp', '82.85 bhp',\n",
       "       '67 bhp', '241.4 bhp', '35 bhp', '270.9 bhp', '126.32 bhp',\n",
       "       '73 bhp', '130 bhp', '100.6 bhp', '150 bhp', '75.94 bhp',\n",
       "       '215 bhp', '107.3 bhp', '37.48 bhp', '120 bhp', '178 bhp',\n",
       "       '152 bhp', '91.1 bhp', '85.80 bhp', '362.07 bhp', '121.3 bhp',\n",
       "       '143 bhp', '81.80 bhp', '171 bhp', '76.8 bhp', '103.52 bhp',\n",
       "       '444 bhp', '362.9 bhp', '67.06 bhp', '120.7 bhp', '258 bhp',\n",
       "       '81.86 bhp', '112 bhp', '88.73 bhp', '57.6 bhp', '157.75 bhp',\n",
       "       '102.5 bhp', '201.1 bhp', '83.1 bhp', '68.05 bhp', '88.50 bhp',\n",
       "       '106 bhp', '100 bhp', '81.83 bhp', '85 bhp', '64.1 bhp',\n",
       "       '177.5 bhp', '246.7 bhp', '177.46 bhp', '65 bhp', '67.04 bhp',\n",
       "       '189.08 bhp', '99 bhp', '53.5 bhp', '194.3 bhp', '70 bhp',\n",
       "       '183 bhp', '254.79 bhp', '66.1 bhp', '76 bhp', '60 bhp',\n",
       "       '123.24 bhp', '47.3 bhp', '118 bhp', '88.8 bhp', '177 bhp',\n",
       "       '136 bhp', '201.15 bhp', '93.7 bhp', '177.6 bhp', '313 bhp',\n",
       "       '245 bhp', '125 bhp', '141 bhp', '227 bhp', '62 bhp', '141.1 bhp',\n",
       "       '83.14 bhp', '192 bhp', '67.05 bhp', '47 bhp', '235 bhp', '37 bhp',\n",
       "       '87.2 bhp', '203 bhp', '204 bhp', '246.74 bhp', '122 bhp',\n",
       "       '282 bhp', '181 bhp', '224 bhp', '94 bhp', '367 bhp', '98.79 bhp',\n",
       "       '62.1 bhp', '174.3 bhp', '114 bhp', '335.2 bhp', '169 bhp',\n",
       "       '191.34 bhp', '108.49 bhp', '138.02 bhp', '156 bhp', '187.4 bhp',\n",
       "       '66 bhp', '103.3 bhp', '164.7 bhp', '79.4 bhp', '198.5 bhp',\n",
       "       '154 bhp', '73.8 bhp', '181.43 bhp', '85.8 bhp', '207.8 bhp',\n",
       "       '108.4 bhp', '88 bhp', '63 bhp', '82.5 bhp', '364.9 bhp',\n",
       "       '107.2 bhp', '113.98 bhp', '126.3 bhp', '185 bhp', '237.4 bhp',\n",
       "       '99.6 bhp', '66.7 bhp', '160 bhp', '306 bhp', '98.59 bhp',\n",
       "       '92.7 bhp', '147.51 bhp', '197.2 bhp', '167.6 bhp', '165 bhp',\n",
       "       '110.4 bhp', '73.97 bhp', '147.9 bhp', '116.6 bhp', '148 bhp',\n",
       "       '34.2 bhp', '155 bhp', '197 bhp', '108.62 bhp', '118.3 bhp',\n",
       "       '38.4 bhp', '241.38 bhp', '153.86 bhp', '163.5 bhp', '226.6 bhp',\n",
       "       '84.8 bhp', '53.64 bhp', '158.2 bhp', '69.01 bhp', '181.03 bhp',\n",
       "       '58.2 bhp', '104.68 bhp', '126.24 bhp', '73.75 bhp', '158 bhp',\n",
       "       '130.2 bhp', '57.5 bhp', '97.7 bhp', '121.4 bhp', '98.96 bhp',\n",
       "       '174.5 bhp', '308 bhp', '121.36 bhp', '138 bhp', '265 bhp',\n",
       "       '84 bhp', '321 bhp', '91.72 bhp', '65.3 bhp', '88.2 bhp', '93 bhp',\n",
       "       '35.5 bhp', '86.79 bhp', '157.7 bhp', '40.3 bhp', '91.7 bhp',\n",
       "       '180 bhp', '114.4 bhp', '158.8 bhp', '157.8 bhp', '123.7 bhp',\n",
       "       '56.3 bhp', '189 bhp', '104 bhp', '210 bhp', '270.88 bhp',\n",
       "       '142 bhp', '255 bhp', '236 bhp', '167.7 bhp', '148.31 bhp',\n",
       "       '80.46 bhp', '138.08 bhp', '250 bhp', '74.9 bhp', '91.2 bhp',\n",
       "       '102.57 bhp', '97.6 bhp', '102.53 bhp', '240 bhp', '254 bhp',\n",
       "       '112.4 bhp', '73.74 bhp', '108.495 bhp', '116.9 bhp', '101 bhp',\n",
       "       '320 bhp', '70.02 bhp', '261.49 bhp', '105.5 bhp', '550 bhp',\n",
       "       '168.7 bhp', '55.23 bhp', '94.68 bhp', '152.88 bhp', '163.2 bhp',\n",
       "       '203.2 bhp', '241 bhp', '95 bhp', '200 bhp', '271.23 bhp',\n",
       "       '63.12 bhp', '85.7 bhp', '308.43 bhp', '118.6 bhp', '199.3 bhp',\n",
       "       '83.83 bhp', '55 bhp', '83 bhp', '300 bhp', '201 bhp', '262.6 bhp',\n",
       "       '163 bhp', '58.33 bhp', '86.76 bhp', '76.9 bhp', '174.57 bhp',\n",
       "       '301.73 bhp', '68.1 bhp', '162 bhp', '394.3 bhp', '80.9 bhp',\n",
       "       '147.5 bhp', '272 bhp', '340 bhp', '120.33 bhp', '82.4 bhp',\n",
       "       '231.1 bhp', '335.3 bhp', '333 bhp', '198.25 bhp', '224.34 bhp',\n",
       "       '402 bhp', '261 bhp', '61 bhp', '144 bhp', '71.01 bhp',\n",
       "       '271.72 bhp', '134 bhp', '135.1 bhp', '92 bhp', '64.08 bhp',\n",
       "       '261.5 bhp', '123.37 bhp', '175.67 bhp', '53 bhp', '110.5 bhp',\n",
       "       '178.4 bhp', '193.1 bhp', '41 bhp', '395 bhp', '48.21 bhp',\n",
       "       '450 bhp', '421 bhp', '89.75 bhp', '387.3 bhp', '130.3 bhp',\n",
       "       '281.61 bhp', '52.8 bhp', '139.01 bhp', '208 bhp', '503 bhp',\n",
       "       '168 bhp', '98.82 bhp', '139.07 bhp', '83.11 bhp', '74.93 bhp',\n",
       "       '382 bhp', '74.96 bhp', '552 bhp', '127 bhp', '560 bhp',\n",
       "       '116.4 bhp', '161.6 bhp', '488.1 bhp', '103 bhp', '181.04 bhp'],\n",
       "      dtype=object)"
      ]
     },
     "execution_count": 16,
     "metadata": {},
     "output_type": "execute_result"
    }
   ],
   "source": [
    "# In dealing with missing values in \"Power\", check the unique values\n",
    "\n",
    "car.Power.unique()"
   ]
  },
  {
   "cell_type": "code",
   "execution_count": 17,
   "id": "d46dc6b4",
   "metadata": {},
   "outputs": [],
   "source": [
    "# To seperate and strip the unit \"bhp\" from the numbers\n",
    "\n",
    "car[\"Power\"] = car[\"Power\"].str.strip(\"bhp\").str.strip(\" \")"
   ]
  },
  {
   "cell_type": "code",
   "execution_count": 18,
   "id": "2ed94ffa",
   "metadata": {},
   "outputs": [
    {
     "data": {
      "text/plain": [
       "array(['58.16', '126.2', '88.7', '88.76', '140.8', '55.2', '63.1',\n",
       "       '171.5', '103.6', '74', '103.25', '116.3', '187.7', '115',\n",
       "       '175.56', '98.6', '83.8', '167.62', '190', '88.5', '177.01', '80',\n",
       "       '67.1', '102', '108.45', '138.1', '184', '179.5', '103.5', '64',\n",
       "       '82', '254.8', '73.9', '46.3', '37.5', '77', '82.9', '149.92',\n",
       "       '138.03', '112.2', '163.7', '71', '105', '174.33', '75', '103.2',\n",
       "       '53.3', '78.9', '147.6', '147.8', '68', '186', '170', '69', '140',\n",
       "       '78', '194', '500', '108.5', '86.8', '187.74', nan, '132', '86.7',\n",
       "       '73.94', '117.3', '218', '168.5', '89.84', '110', '90', '82.85',\n",
       "       '67', '241.4', '35', '270.9', '126.32', '73', '130', '100.6',\n",
       "       '150', '75.94', '215', '107.3', '37.48', '120', '178', '152',\n",
       "       '91.1', '85.80', '362.07', '121.3', '143', '81.80', '171', '76.8',\n",
       "       '103.52', '444', '362.9', '67.06', '120.7', '258', '81.86', '112',\n",
       "       '88.73', '57.6', '157.75', '102.5', '201.1', '83.1', '68.05',\n",
       "       '88.50', '106', '100', '81.83', '85', '64.1', '177.5', '246.7',\n",
       "       '177.46', '65', '67.04', '189.08', '99', '53.5', '194.3', '70',\n",
       "       '183', '254.79', '66.1', '76', '60', '123.24', '47.3', '118',\n",
       "       '88.8', '177', '136', '201.15', '93.7', '177.6', '313', '245',\n",
       "       '125', '141', '227', '62', '141.1', '83.14', '192', '67.05', '47',\n",
       "       '235', '37', '87.2', '203', '204', '246.74', '122', '282', '181',\n",
       "       '224', '94', '367', '98.79', '62.1', '174.3', '114', '335.2',\n",
       "       '169', '191.34', '108.49', '138.02', '156', '187.4', '66', '103.3',\n",
       "       '164.7', '79.4', '198.5', '154', '73.8', '181.43', '85.8', '207.8',\n",
       "       '108.4', '88', '63', '82.5', '364.9', '107.2', '113.98', '126.3',\n",
       "       '185', '237.4', '99.6', '66.7', '160', '306', '98.59', '92.7',\n",
       "       '147.51', '197.2', '167.6', '165', '110.4', '73.97', '147.9',\n",
       "       '116.6', '148', '34.2', '155', '197', '108.62', '118.3', '38.4',\n",
       "       '241.38', '153.86', '163.5', '226.6', '84.8', '53.64', '158.2',\n",
       "       '69.01', '181.03', '58.2', '104.68', '126.24', '73.75', '158',\n",
       "       '130.2', '57.5', '97.7', '121.4', '98.96', '174.5', '308',\n",
       "       '121.36', '138', '265', '84', '321', '91.72', '65.3', '88.2', '93',\n",
       "       '35.5', '86.79', '157.7', '40.3', '91.7', '180', '114.4', '158.8',\n",
       "       '157.8', '123.7', '56.3', '189', '104', '210', '270.88', '142',\n",
       "       '255', '236', '167.7', '148.31', '80.46', '138.08', '250', '74.9',\n",
       "       '91.2', '102.57', '97.6', '102.53', '240', '254', '112.4', '73.74',\n",
       "       '108.495', '116.9', '101', '320', '70.02', '261.49', '105.5',\n",
       "       '550', '168.7', '55.23', '94.68', '152.88', '163.2', '203.2',\n",
       "       '241', '95', '200', '271.23', '63.12', '85.7', '308.43', '118.6',\n",
       "       '199.3', '83.83', '55', '83', '300', '201', '262.6', '163',\n",
       "       '58.33', '86.76', '76.9', '174.57', '301.73', '68.1', '162',\n",
       "       '394.3', '80.9', '147.5', '272', '340', '120.33', '82.4', '231.1',\n",
       "       '335.3', '333', '198.25', '224.34', '402', '261', '61', '144',\n",
       "       '71.01', '271.72', '134', '135.1', '92', '64.08', '261.5',\n",
       "       '123.37', '175.67', '53', '110.5', '178.4', '193.1', '41', '395',\n",
       "       '48.21', '450', '421', '89.75', '387.3', '130.3', '281.61', '52.8',\n",
       "       '139.01', '208', '503', '168', '98.82', '139.07', '83.11', '74.93',\n",
       "       '382', '74.96', '552', '127', '560', '116.4', '161.6', '488.1',\n",
       "       '103', '181.04'], dtype=object)"
      ]
     },
     "execution_count": 18,
     "metadata": {},
     "output_type": "execute_result"
    }
   ],
   "source": [
    "# To check the unique values of Power again after stripping \"bhp\"\n",
    "\n",
    "car[\"Power\"].unique()"
   ]
  },
  {
   "cell_type": "code",
   "execution_count": 19,
   "id": "9a745245",
   "metadata": {},
   "outputs": [
    {
     "name": "stdout",
     "output_type": "stream",
     "text": [
      "<class 'pandas.core.series.Series'>\n",
      "RangeIndex: 6019 entries, 0 to 6018\n",
      "Series name: Power\n",
      "Non-Null Count  Dtype \n",
      "--------------  ----- \n",
      "5876 non-null   object\n",
      "dtypes: object(1)\n",
      "memory usage: 47.1+ KB\n"
     ]
    }
   ],
   "source": [
    "# To check the data type of the Power variable\n",
    "\n",
    "car[\"Power\"].info()"
   ]
  },
  {
   "cell_type": "markdown",
   "id": "02d0aa8c",
   "metadata": {},
   "source": [
    " **Observation**\n",
    "- The data type is object (categorical). There is need to convert to floats (numeric) this variable is now numeric after stripping \"bhp\""
   ]
  },
  {
   "cell_type": "code",
   "execution_count": 20,
   "id": "e4b35a76",
   "metadata": {},
   "outputs": [],
   "source": [
    "# To convert the data type of power to float\n",
    "\n",
    "car[\"Power\"] = car[\"Power\"].astype(\"float64\")"
   ]
  },
  {
   "cell_type": "code",
   "execution_count": 21,
   "id": "0506a240",
   "metadata": {},
   "outputs": [
    {
     "data": {
      "text/plain": [
       "count    5876.000000\n",
       "mean      113.253050\n",
       "std        53.874957\n",
       "min        34.200000\n",
       "25%        75.000000\n",
       "50%        97.700000\n",
       "75%       138.100000\n",
       "max       560.000000\n",
       "Name: Power, dtype: float64"
      ]
     },
     "execution_count": 21,
     "metadata": {},
     "output_type": "execute_result"
    }
   ],
   "source": [
    "# To check the descriptive statistics of the Power\n",
    "\n",
    "car[\"Power\"].describe()"
   ]
  },
  {
   "cell_type": "markdown",
   "id": "b08c9d55",
   "metadata": {},
   "source": [
    "**Strategy**\n",
    "\n",
    "- Since the difference between the maximum (560) and the least (113) is high from the descriptive statistics, the median of this variable will be adopted to compute the 143 missing values"
   ]
  },
  {
   "cell_type": "code",
   "execution_count": 22,
   "id": "0412fea2",
   "metadata": {},
   "outputs": [],
   "source": [
    "# To compute the missing value in the Power using the median\n",
    "\n",
    "car[\"Power\"].fillna(value=car[\"Power\"].median(), inplace=True)"
   ]
  },
  {
   "cell_type": "code",
   "execution_count": 23,
   "id": "c6e19d4e",
   "metadata": {},
   "outputs": [
    {
     "data": {
      "text/plain": [
       "S.No.                 0\n",
       "Name                  0\n",
       "Location              0\n",
       "Year                  0\n",
       "Kilometers_Driven     0\n",
       "Fuel_Type             0\n",
       "Transmission          0\n",
       "Owner_Type            0\n",
       "Mileage               2\n",
       "Engine               36\n",
       "Power                 0\n",
       "Seats                42\n",
       "New_Price             0\n",
       "Price                 0\n",
       "dtype: int64"
      ]
     },
     "execution_count": 23,
     "metadata": {},
     "output_type": "execute_result"
    }
   ],
   "source": [
    "# To check the missing values again in the data\n",
    "\n",
    "car.isna().sum()"
   ]
  },
  {
   "cell_type": "markdown",
   "id": "4ede0d55",
   "metadata": {},
   "source": [
    "## Data Preprocessing...\n",
    "\n",
    "\n",
    "### To compute the missing values in the Engine"
   ]
  },
  {
   "cell_type": "code",
   "execution_count": 24,
   "id": "4a723008",
   "metadata": {},
   "outputs": [
    {
     "data": {
      "text/plain": [
       "array(['998 CC', '1582 CC', '1199 CC', '1248 CC', '1968 CC', '814 CC',\n",
       "       '1461 CC', '2755 CC', '1598 CC', '1462 CC', '1497 CC', '2179 CC',\n",
       "       '2477 CC', '1498 CC', '2143 CC', '1995 CC', '1984 CC', '1197 CC',\n",
       "       '2494 CC', '1798 CC', '2696 CC', '2698 CC', '1061 CC', '1198 CC',\n",
       "       '2987 CC', '796 CC', '624 CC', '1999 CC', '1991 CC', '2694 CC',\n",
       "       '1120 CC', '2498 CC', '799 CC', '2393 CC', '1399 CC', '1796 CC',\n",
       "       '2148 CC', '1396 CC', '1950 CC', '4806 CC', '1998 CC', '1086 CC',\n",
       "       '1193 CC', '2982 CC', '1493 CC', '2967 CC', '2993 CC', '1196 CC',\n",
       "       '1799 CC', '2497 CC', '2354 CC', '1373 CC', '2996 CC', '1591 CC',\n",
       "       '2894 CC', '5461 CC', '1595 CC', '936 CC', '1997 CC', nan,\n",
       "       '1896 CC', '1390 CC', '1364 CC', '2199 CC', '993 CC', '999 CC',\n",
       "       '1405 CC', '2956 CC', '1794 CC', '995 CC', '2496 CC', '1599 CC',\n",
       "       '2400 CC', '1495 CC', '2523 CC', '793 CC', '4134 CC', '1596 CC',\n",
       "       '1395 CC', '2953 CC', '1586 CC', '2362 CC', '1496 CC', '1368 CC',\n",
       "       '1298 CC', '1956 CC', '1299 CC', '3498 CC', '2835 CC', '1150 CC',\n",
       "       '3198 CC', '1343 CC', '1499 CC', '1186 CC', '1590 CC', '2609 CC',\n",
       "       '2499 CC', '2446 CC', '1978 CC', '2360 CC', '3436 CC', '2198 CC',\n",
       "       '4367 CC', '2706 CC', '1422 CC', '2979 CC', '1969 CC', '1489 CC',\n",
       "       '2489 CC', '1242 CC', '1388 CC', '1172 CC', '2495 CC', '1194 CC',\n",
       "       '3200 CC', '1781 CC', '1341 CC', '2773 CC', '3597 CC', '1985 CC',\n",
       "       '2147 CC', '1047 CC', '2999 CC', '2995 CC', '2997 CC', '1948 CC',\n",
       "       '2359 CC', '4395 CC', '2349 CC', '2720 CC', '1468 CC', '3197 CC',\n",
       "       '2487 CC', '1597 CC', '2771 CC', '72 CC', '4951 CC', '970 CC',\n",
       "       '2925 CC', '2200 CC', '5000 CC', '2149 CC', '5998 CC', '2092 CC',\n",
       "       '5204 CC', '2112 CC', '1797 CC'], dtype=object)"
      ]
     },
     "execution_count": 24,
     "metadata": {},
     "output_type": "execute_result"
    }
   ],
   "source": [
    "# To check the unique value\n",
    "\n",
    "car[\"Engine\"].unique()"
   ]
  },
  {
   "cell_type": "code",
   "execution_count": 25,
   "id": "2e061490",
   "metadata": {},
   "outputs": [],
   "source": [
    "# To strip the unit \"CC\" \n",
    "\n",
    "car[\"Engine\"] = car[\"Engine\"].str.strip(\"CC\").str.strip(\" \")"
   ]
  },
  {
   "cell_type": "code",
   "execution_count": 26,
   "id": "6b240885",
   "metadata": {},
   "outputs": [],
   "source": [
    "# To convert the data type of Engine to numerical after stripping the unit \"CC\"\n",
    "\n",
    "car[\"Engine\"] = car[\"Engine\"].astype(\"float64\")"
   ]
  },
  {
   "cell_type": "code",
   "execution_count": 27,
   "id": "a36ef7ec",
   "metadata": {},
   "outputs": [
    {
     "data": {
      "text/plain": [
       "count    5983.000000\n",
       "mean     1621.276450\n",
       "std       601.355233\n",
       "min        72.000000\n",
       "25%      1198.000000\n",
       "50%      1493.000000\n",
       "75%      1984.000000\n",
       "max      5998.000000\n",
       "Name: Engine, dtype: float64"
      ]
     },
     "execution_count": 27,
     "metadata": {},
     "output_type": "execute_result"
    }
   ],
   "source": [
    "# To check the descriptive statistics of Engine\n",
    "\n",
    "car[\"Engine\"].describe()"
   ]
  },
  {
   "cell_type": "markdown",
   "id": "23e0f009",
   "metadata": {},
   "source": [
    "- The least is 72 while the highest is 5,998. Because of the outliers, their median will used to compute the 42 missing values"
   ]
  },
  {
   "cell_type": "code",
   "execution_count": 28,
   "id": "9ae7e76c",
   "metadata": {},
   "outputs": [],
   "source": [
    "car[\"Engine\"].fillna(value=car[\"Engine\"].median(), inplace=True)"
   ]
  },
  {
   "cell_type": "code",
   "execution_count": 29,
   "id": "ac7ec6f4",
   "metadata": {},
   "outputs": [
    {
     "data": {
      "text/plain": [
       "S.No.                 0\n",
       "Name                  0\n",
       "Location              0\n",
       "Year                  0\n",
       "Kilometers_Driven     0\n",
       "Fuel_Type             0\n",
       "Transmission          0\n",
       "Owner_Type            0\n",
       "Mileage               2\n",
       "Engine                0\n",
       "Power                 0\n",
       "Seats                42\n",
       "New_Price             0\n",
       "Price                 0\n",
       "dtype: int64"
      ]
     },
     "execution_count": 29,
     "metadata": {},
     "output_type": "execute_result"
    }
   ],
   "source": [
    "# To check the missing values again in the data\n",
    "\n",
    "car.isna().sum()"
   ]
  },
  {
   "cell_type": "markdown",
   "id": "1c4e2478",
   "metadata": {},
   "source": [
    "### To compute the 2 missing values of the mileage"
   ]
  },
  {
   "cell_type": "code",
   "execution_count": 30,
   "id": "f36d586d",
   "metadata": {},
   "outputs": [
    {
     "data": {
      "text/plain": [
       "array(['26.6 km/kg', '19.67 kmpl', '18.2 kmpl', '20.77 kmpl', '15.2 kmpl',\n",
       "       '21.1 km/kg', '23.08 kmpl', '11.36 kmpl', '20.54 kmpl',\n",
       "       '22.3 kmpl', '21.56 kmpl', '16.8 kmpl', '25.2 kmpl', '12.7 kmpl',\n",
       "       '0.0 kmpl', '13.5 kmpl', '25.8 kmpl', '28.4 kmpl', '20.45 kmpl',\n",
       "       '14.84 kmpl', '22.69 kmpl', '23.65 kmpl', '13.53 kmpl',\n",
       "       '18.5 kmpl', '14.4 kmpl', '20.92 kmpl', '17.5 kmpl', '12.8 kmpl',\n",
       "       '19.01 kmpl', '14.53 kmpl', '11.18 kmpl', '12.4 kmpl',\n",
       "       '16.09 kmpl', '14.0 kmpl', '24.3 kmpl', '18.15 kmpl', '11.74 kmpl',\n",
       "       '22.07 kmpl', '19.7 kmpl', '25.4 kmpl', '25.32 kmpl', '14.62 kmpl',\n",
       "       '14.28 kmpl', '14.9 kmpl', '11.25 kmpl', '24.4 kmpl', '16.55 kmpl',\n",
       "       '17.11 kmpl', '22.9 kmpl', '17.8 kmpl', '18.9 kmpl', '15.04 kmpl',\n",
       "       '25.17 kmpl', '20.36 kmpl', '13.29 kmpl', '13.68 kmpl',\n",
       "       '20.0 kmpl', '15.8 kmpl', '25.0 kmpl', '16.4 kmpl', '24.52 kmpl',\n",
       "       '22.1 kmpl', '8.5 kmpl', '15.1 kmpl', '16.95 kmpl', '19.64 kmpl',\n",
       "       '16.5 kmpl', '18.53 kmpl', '17.57 kmpl', '18.0 kmpl', '23.2 kmpl',\n",
       "       '16.73 kmpl', '17.0 kmpl', '13.0 kmpl', '17.68 kmpl', '22.7 kmpl',\n",
       "       '16.2 kmpl', '15.26 kmpl', '23.0 kmpl', '19.83 kmpl', '14.94 kmpl',\n",
       "       '17.71 kmpl', '14.74 kmpl', '16.0 kmpl', '22.32 kmpl',\n",
       "       '12.99 kmpl', '23.3 kmpl', '19.15 kmpl', '10.8 kmpl', '15.0 kmpl',\n",
       "       '22.0 kmpl', '21.9 kmpl', '12.05 kmpl', '11.7 kmpl', '21.21 kmpl',\n",
       "       '20.73 kmpl', '21.1 kmpl', '24.07 kmpl', '19.0 kmpl', '20.58 kmpl',\n",
       "       '19.27 kmpl', '11.5 kmpl', '18.6 kmpl', '21.14 kmpl', '11.05 kmpl',\n",
       "       '21.76 kmpl', '7.81 kmpl', '21.66 kmpl', '17.2 kmpl', '20.63 kmpl',\n",
       "       '19.4 kmpl', '14.8 kmpl', '26.0 kmpl', '20.4 kmpl', '21.5 kmpl',\n",
       "       '15.3 kmpl', '17.9 kmpl', '16.6 kmpl', '22.54 kmpl', '25.44 kmpl',\n",
       "       '13.7 kmpl', '22.48 kmpl', '12.9 kmpl', '19.98 kmpl', '21.4 kmpl',\n",
       "       '19.81 kmpl', '15.4 kmpl', '25.47 kmpl', '19.87 kmpl',\n",
       "       '17.45 kmpl', '14.7 kmpl', '15.64 kmpl', '15.73 kmpl',\n",
       "       '23.59 kmpl', '16.1 kmpl', '27.4 kmpl', '20.46 kmpl', '15.29 kmpl',\n",
       "       '20.51 kmpl', '11.8 kmpl', '14.3 kmpl', '14.67 kmpl', '17.19 kmpl',\n",
       "       '21.03 kmpl', '22.5 kmpl', '16.82 kmpl', '11.72 kmpl', '17.4 kmpl',\n",
       "       '17.05 kmpl', '24.0 kmpl', '28.09 kmpl', '20.5 kmpl', '13.1 kmpl',\n",
       "       '19.91 kmpl', '18.7 kmpl', '16.38 kmpl', '11.57 kmpl', '17.3 kmpl',\n",
       "       '22.95 kmpl', '18.88 kmpl', '23.4 kmpl', '22.74 kmpl',\n",
       "       '12.07 kmpl', '17.1 kmpl', '18.48 kmpl', '16.47 kmpl', '23.1 kmpl',\n",
       "       '14.07 kmpl', '16.02 kmpl', '19.3 kmpl', '17.7 kmpl', '9.52 kmpl',\n",
       "       '14.75 kmpl', '26.3 km/kg', '11.3 kmpl', '21.12 kmpl',\n",
       "       '21.02 kmpl', '14.45 kmpl', '19.33 kmpl', '13.8 kmpl', '24.7 kmpl',\n",
       "       '11.0 kmpl', '11.07 kmpl', '21.43 kmpl', '14.21 kmpl',\n",
       "       '18.86 kmpl', '16.07 kmpl', '13.49 kmpl', '20.38 kmpl',\n",
       "       '12.0 kmpl', '17.01 kmpl', '13.2 kmpl', '20.37 kmpl', '15.1 km/kg',\n",
       "       '15.96 kmpl', '14.16 kmpl', '13.17 kmpl', '27.62 kmpl',\n",
       "       '25.1 kmpl', '15.17 kmpl', '11.33 kmpl', '17.92 kmpl',\n",
       "       '12.55 kmpl', '12.6 kmpl', '17.72 kmpl', '18.16 kmpl',\n",
       "       '15.68 kmpl', '15.5 kmpl', '12.1 kmpl', '14.83 kmpl', '17.6 kmpl',\n",
       "       '14.6 kmpl', '14.66 kmpl', '10.93 kmpl', '20.68 kmpl', '9.9 kmpl',\n",
       "       '21.13 kmpl', '20.14 kmpl', '19.2 kmpl', '27.3 kmpl', '16.36 kmpl',\n",
       "       '26.59 kmpl', '12.5 kmpl', '13.6 kmpl', '15.06 kmpl', '10.13 kmpl',\n",
       "       '17.21 kmpl', '15.97 kmpl', '10.5 kmpl', '14.69 kmpl', '23.9 kmpl',\n",
       "       '19.1 kmpl', '21.27 kmpl', '15.9 kmpl', '20.7 kmpl', '14.1 kmpl',\n",
       "       '20.89 kmpl', '18.12 kmpl', '12.3 kmpl', '19.71 kmpl', '9.43 kmpl',\n",
       "       '13.4 kmpl', '13.14 kmpl', '18.1 kmpl', '22.77 kmpl', '14.49 kmpl',\n",
       "       '12.39 kmpl', '10.91 kmpl', '20.85 kmpl', '15.63 kmpl',\n",
       "       '27.39 kmpl', '18.3 kmpl', '16.78 kmpl', '25.5 kmpl', '10.0 kmpl',\n",
       "       '13.73 kmpl', '24.2 kmpl', '14.02 kmpl', '26.83 km/kg',\n",
       "       '16.77 kmpl', '24.5 kmpl', '20.34 kmpl', '21.7 kmpl', '9.7 kmpl',\n",
       "       '14.33 kmpl', '21.64 kmpl', '13.2 km/kg', '19.16 kmpl',\n",
       "       '16.93 kmpl', '9.0 kmpl', '26.2 km/kg', '16.3 kmpl', '12.62 kmpl',\n",
       "       '17.3 km/kg', '20.64 kmpl', '14.24 kmpl', '18.06 kmpl',\n",
       "       '10.2 kmpl', '10.1 kmpl', '18.25 kmpl', '13.93 kmpl', '25.83 kmpl',\n",
       "       '8.6 kmpl', '13.24 kmpl', '17.09 kmpl', '23.84 kmpl', '8.45 kmpl',\n",
       "       '19.6 kmpl', '19.5 kmpl', '20.3 kmpl', '16.05 kmpl', '11.2 kmpl',\n",
       "       '27.03 kmpl', '18.78 kmpl', '12.35 kmpl', '14.59 kmpl',\n",
       "       '17.32 kmpl', '14.95 kmpl', '13.22 kmpl', '23.03 kmpl',\n",
       "       '33.44 km/kg', '15.6 kmpl', '19.12 kmpl', '10.98 kmpl',\n",
       "       '33.54 km/kg', '16.46 kmpl', '18.4 kmpl', '11.1 kmpl',\n",
       "       '13.01 kmpl', '18.8 kmpl', '16.52 kmpl', '18.44 kmpl',\n",
       "       '19.49 kmpl', '23.5 kmpl', '23.8 kmpl', '12.65 kmpl', '20.65 kmpl',\n",
       "       '21.72 kmpl', '12.19 kmpl', '26.1 kmpl', '18.33 kmpl',\n",
       "       '12.81 kmpl', '17.5 km/kg', '17.06 kmpl', '17.67 kmpl',\n",
       "       '19.34 kmpl', '8.3 kmpl', '16.96 kmpl', '11.79 kmpl', '20.86 kmpl',\n",
       "       '16.98 kmpl', '11.68 kmpl', '15.74 kmpl', '15.7 kmpl',\n",
       "       '18.49 kmpl', '10.9 kmpl', '19.59 kmpl', '11.4 kmpl', '13.06 kmpl',\n",
       "       '21.0 kmpl', '15.15 kmpl', '16.9 kmpl', '18.23 kmpl', '25.0 km/kg',\n",
       "       '17.16 kmpl', '17.43 kmpl', '19.08 kmpl', '18.56 kmpl',\n",
       "       '11.9 kmpl', '24.6 km/kg', '21.79 kmpl', '12.95 kmpl', '25.6 kmpl',\n",
       "       '13.45 km/kg', '26.21 kmpl', '13.58 kmpl', '16.25 kmpl',\n",
       "       '10.4 kmpl', '17.44 kmpl', '19.2 km/kg', '22.71 kmpl',\n",
       "       '17.54 kmpl', '22.1 km/kg', '17.0 km/kg', '15.87 kmpl', '9.5 kmpl',\n",
       "       '11.56 kmpl', '14.39 kmpl', '19.09 kmpl', '17.85 kmpl',\n",
       "       '31.79 km/kg', '18.18 kmpl', '21.19 kmpl', '21.8 kmpl',\n",
       "       '15.42 kmpl', '14.47 kmpl', '19.69 kmpl', '12.83 kmpl', '8.0 kmpl',\n",
       "       '22.8 km/kg', '12.63 kmpl', '14.57 kmpl', '27.28 kmpl',\n",
       "       '15.41 kmpl', '32.26 km/kg', '18.19 kmpl', '13.33 kmpl',\n",
       "       '16.7 kmpl', '17.84 kmpl', '20.0 km/kg', '23.19 kmpl',\n",
       "       '11.49 kmpl', '18.51 kmpl', '13.44 kmpl', '8.7 kmpl', '8.77 kmpl',\n",
       "       '17.97 kmpl', '23.57 kmpl', '12.37 kmpl', '9.1 kmpl', '12.51 kmpl',\n",
       "       '19.44 kmpl', '21.38 kmpl', '16.51 kmpl', '24.8 kmpl',\n",
       "       '14.42 kmpl', '14.53 km/kg', '26.8 kmpl', '24.04 kmpl', '9.8 kmpl',\n",
       "       '19.68 kmpl', '21.4 km/kg', '21.2 kmpl', '19.72 kmpl', '14.2 kmpl',\n",
       "       '12.98 kmpl', '23.01 kmpl', '16.12 kmpl', '9.3 kmpl', '15.85 kmpl',\n",
       "       nan, '17.88 kmpl', '10.6 kmpl', '11.78 kmpl', '7.94 kmpl',\n",
       "       '25.01 kmpl', '8.1 kmpl', '13.9 kmpl', '11.62 kmpl', '20.62 kmpl',\n",
       "       '15.11 kmpl', '10.37 kmpl', '18.59 kmpl', '9.74 kmpl',\n",
       "       '14.81 kmpl', '8.2 kmpl', '12.97 kmpl', '7.5 kmpl', '30.46 km/kg',\n",
       "       '6.4 kmpl', '12.85 kmpl', '18.69 kmpl', '17.24 kmpl'], dtype=object)"
      ]
     },
     "execution_count": 30,
     "metadata": {},
     "output_type": "execute_result"
    }
   ],
   "source": [
    "# To check the unique value of the mileage\n",
    "\n",
    "car[\"Mileage\"].unique()"
   ]
  },
  {
   "cell_type": "code",
   "execution_count": 31,
   "id": "4240d70b",
   "metadata": {},
   "outputs": [],
   "source": [
    "# To seperate the unit from the numbers\n",
    "\n",
    "car[\"Mileage\"] = car[\"Mileage\"].str.strip(\"km/kg\").str.strip(\"kmpl\").str.strip(\" \")"
   ]
  },
  {
   "cell_type": "code",
   "execution_count": 32,
   "id": "2cb11f5b",
   "metadata": {},
   "outputs": [],
   "source": [
    "# To convert the \"object\" data type to float after stripping the unit\n",
    "\n",
    "car[\"Mileage\"] = car[\"Mileage\"].astype(\"float64\")"
   ]
  },
  {
   "cell_type": "code",
   "execution_count": 33,
   "id": "fcb32760",
   "metadata": {},
   "outputs": [
    {
     "data": {
      "text/plain": [
       "count    6017.000000\n",
       "mean       18.134961\n",
       "std         4.582289\n",
       "min         0.000000\n",
       "25%        15.170000\n",
       "50%        18.150000\n",
       "75%        21.100000\n",
       "max        33.540000\n",
       "Name: Mileage, dtype: float64"
      ]
     },
     "execution_count": 33,
     "metadata": {},
     "output_type": "execute_result"
    }
   ],
   "source": [
    "# To check the mileage descriptive statistics\n",
    "\n",
    "car[\"Mileage\"].describe()"
   ]
  },
  {
   "cell_type": "markdown",
   "id": "60a0d54c",
   "metadata": {},
   "source": [
    "- The least is zero, the highest is 34 while the median is 18. Their median will be calculated and adopted in filling the 2 missing values."
   ]
  },
  {
   "cell_type": "code",
   "execution_count": 34,
   "id": "5ecd9e49",
   "metadata": {},
   "outputs": [],
   "source": [
    "# To compute the missing value\n",
    "\n",
    "car[\"Mileage\"].fillna(value =car[\"Mileage\"].median(), inplace =True)"
   ]
  },
  {
   "cell_type": "code",
   "execution_count": 35,
   "id": "517870bc",
   "metadata": {},
   "outputs": [
    {
     "data": {
      "text/plain": [
       "S.No.                 0\n",
       "Name                  0\n",
       "Location              0\n",
       "Year                  0\n",
       "Kilometers_Driven     0\n",
       "Fuel_Type             0\n",
       "Transmission          0\n",
       "Owner_Type            0\n",
       "Mileage               0\n",
       "Engine                0\n",
       "Power                 0\n",
       "Seats                42\n",
       "New_Price             0\n",
       "Price                 0\n",
       "dtype: int64"
      ]
     },
     "execution_count": 35,
     "metadata": {},
     "output_type": "execute_result"
    }
   ],
   "source": [
    "# To check the missing values in the data\n",
    "\n",
    "car.isna().sum()"
   ]
  },
  {
   "cell_type": "markdown",
   "id": "0cad84c5",
   "metadata": {},
   "source": [
    "### To compute the missing values in the \"Seats\""
   ]
  },
  {
   "cell_type": "code",
   "execution_count": 36,
   "id": "e81252c8",
   "metadata": {},
   "outputs": [
    {
     "data": {
      "text/plain": [
       "array([ 5.,  7.,  8.,  4.,  6.,  2., nan, 10.,  9.,  0.])"
      ]
     },
     "execution_count": 36,
     "metadata": {},
     "output_type": "execute_result"
    }
   ],
   "source": [
    "# To find the unique value\n",
    "\n",
    "car[\"Seats\"].unique()"
   ]
  },
  {
   "cell_type": "code",
   "execution_count": 37,
   "id": "abd8c326",
   "metadata": {},
   "outputs": [
    {
     "data": {
      "text/plain": [
       "count    5977.000000\n",
       "mean        5.278735\n",
       "std         0.808840\n",
       "min         0.000000\n",
       "25%         5.000000\n",
       "50%         5.000000\n",
       "75%         5.000000\n",
       "max        10.000000\n",
       "Name: Seats, dtype: float64"
      ]
     },
     "execution_count": 37,
     "metadata": {},
     "output_type": "execute_result"
    }
   ],
   "source": [
    "# To see the descriptive statistics\n",
    "\n",
    "car[\"Seats\"].describe()"
   ]
  },
  {
   "cell_type": "code",
   "execution_count": 38,
   "id": "07685277",
   "metadata": {},
   "outputs": [],
   "source": [
    "# To fill the missing value with the median\n",
    "\n",
    "car[\"Seats\"].fillna(value =car[\"Seats\"].median(), inplace =True)"
   ]
  },
  {
   "cell_type": "code",
   "execution_count": 39,
   "id": "dc7821df",
   "metadata": {},
   "outputs": [
    {
     "data": {
      "text/plain": [
       "S.No.                0\n",
       "Name                 0\n",
       "Location             0\n",
       "Year                 0\n",
       "Kilometers_Driven    0\n",
       "Fuel_Type            0\n",
       "Transmission         0\n",
       "Owner_Type           0\n",
       "Mileage              0\n",
       "Engine               0\n",
       "Power                0\n",
       "Seats                0\n",
       "New_Price            0\n",
       "Price                0\n",
       "dtype: int64"
      ]
     },
     "execution_count": 39,
     "metadata": {},
     "output_type": "execute_result"
    }
   ],
   "source": [
    "# To check the missing values again \n",
    "\n",
    "car.isna().sum()"
   ]
  },
  {
   "cell_type": "markdown",
   "id": "760dde13",
   "metadata": {},
   "source": [
    "- There are zero missing values in the data"
   ]
  },
  {
   "cell_type": "markdown",
   "id": "c615d1a3",
   "metadata": {},
   "source": [
    "## Visualisation\n",
    "\n",
    "\n",
    "- Univariates"
   ]
  },
  {
   "cell_type": "code",
   "execution_count": 40,
   "id": "6631f940",
   "metadata": {},
   "outputs": [
    {
     "data": {
      "image/png": "[encoded data removed]",
      "text/plain": [
       "<Figure size 432x288 with 1 Axes>"
      ]
     },
     "metadata": {
      "needs_background": "light"
     },
     "output_type": "display_data"
    }
   ],
   "source": [
    "# Box plot to visually view target variable\n",
    "\n",
    "sns.boxplot(data = car, x = \"Price\");\n",
    "plt.title(\"Boxplot Of The Price\")\n",
    "plt.xlabel(\"Price\")\n",
    "plt.ylabel(\"Frequency\");"
   ]
  },
  {
   "cell_type": "markdown",
   "id": "f9f6714f",
   "metadata": {},
   "source": [
    "- There are high prices of the used cars in the data, as high as 160 when the median is less than 7\n",
    "- The distribution is right skewed because of these high prices"
   ]
  },
  {
   "cell_type": "code",
   "execution_count": 41,
   "id": "9a6c9b0c",
   "metadata": {},
   "outputs": [
    {
     "data": {
      "image/png": "[encoded data removed]",
      "text/plain": [
       "<Figure size 432x288 with 1 Axes>"
      ]
     },
     "metadata": {
      "needs_background": "light"
     },
     "output_type": "display_data"
    }
   ],
   "source": [
    "# Box plot to visually view New_price variable\n",
    "\n",
    "sns.boxplot(data = car, x = \"New_Price\");\n",
    "plt.title(\"Boxplot Of The New_Price\")\n",
    "plt.xlabel(\"New_Price\")\n",
    "plt.ylabel(\"Frequency\");"
   ]
  },
  {
   "cell_type": "markdown",
   "id": "40fc2505",
   "metadata": {},
   "source": [
    "- There are high prices of the new cars in the data\n",
    "- The distribution is right skewed because of these high prices"
   ]
  },
  {
   "cell_type": "markdown",
   "id": "8b6ec9eb",
   "metadata": {},
   "source": [
    "## Bivariate plots"
   ]
  },
  {
   "cell_type": "code",
   "execution_count": 42,
   "id": "6eecf6f7",
   "metadata": {},
   "outputs": [
    {
     "data": {
      "text/html": [
       "<div>\n",
       "<style scoped>\n",
       "    .dataframe tbody tr th:only-of-type {\n",
       "        vertical-align: middle;\n",
       "    }\n",
       "\n",
       "    .dataframe tbody tr th {\n",
       "        vertical-align: top;\n",
       "    }\n",
       "\n",
       "    .dataframe thead th {\n",
       "        text-align: right;\n",
       "    }\n",
       "</style>\n",
       "<table border=\"1\" class=\"dataframe\">\n",
       "  <thead>\n",
       "    <tr style=\"text-align: right;\">\n",
       "      <th></th>\n",
       "      <th>S.No.</th>\n",
       "      <th>Year</th>\n",
       "      <th>Kilometers_Driven</th>\n",
       "      <th>Mileage</th>\n",
       "      <th>Engine</th>\n",
       "      <th>Power</th>\n",
       "      <th>Seats</th>\n",
       "      <th>New_Price</th>\n",
       "      <th>Price</th>\n",
       "    </tr>\n",
       "  </thead>\n",
       "  <tbody>\n",
       "    <tr>\n",
       "      <th>S.No.</th>\n",
       "      <td>1.000000</td>\n",
       "      <td>0.002354</td>\n",
       "      <td>-0.008734</td>\n",
       "      <td>0.023674</td>\n",
       "      <td>-0.004117</td>\n",
       "      <td>-0.012064</td>\n",
       "      <td>-0.010727</td>\n",
       "      <td>-0.013431</td>\n",
       "      <td>-0.020275</td>\n",
       "    </tr>\n",
       "    <tr>\n",
       "      <th>Year</th>\n",
       "      <td>0.002354</td>\n",
       "      <td>1.000000</td>\n",
       "      <td>-0.173048</td>\n",
       "      <td>0.321534</td>\n",
       "      <td>-0.050086</td>\n",
       "      <td>0.024195</td>\n",
       "      <td>0.015204</td>\n",
       "      <td>-0.007432</td>\n",
       "      <td>0.305327</td>\n",
       "    </tr>\n",
       "    <tr>\n",
       "      <th>Kilometers_Driven</th>\n",
       "      <td>-0.008734</td>\n",
       "      <td>-0.173048</td>\n",
       "      <td>1.000000</td>\n",
       "      <td>-0.065253</td>\n",
       "      <td>0.090890</td>\n",
       "      <td>0.032080</td>\n",
       "      <td>0.082782</td>\n",
       "      <td>0.016720</td>\n",
       "      <td>-0.011493</td>\n",
       "    </tr>\n",
       "    <tr>\n",
       "      <th>Mileage</th>\n",
       "      <td>0.023674</td>\n",
       "      <td>0.321534</td>\n",
       "      <td>-0.065253</td>\n",
       "      <td>1.000000</td>\n",
       "      <td>-0.586404</td>\n",
       "      <td>-0.497666</td>\n",
       "      <td>-0.299632</td>\n",
       "      <td>-0.415006</td>\n",
       "      <td>-0.306588</td>\n",
       "    </tr>\n",
       "    <tr>\n",
       "      <th>Engine</th>\n",
       "      <td>-0.004117</td>\n",
       "      <td>-0.050086</td>\n",
       "      <td>0.090890</td>\n",
       "      <td>-0.586404</td>\n",
       "      <td>1.000000</td>\n",
       "      <td>0.860410</td>\n",
       "      <td>0.393368</td>\n",
       "      <td>0.697517</td>\n",
       "      <td>0.657347</td>\n",
       "    </tr>\n",
       "    <tr>\n",
       "      <th>Power</th>\n",
       "      <td>-0.012064</td>\n",
       "      <td>0.024195</td>\n",
       "      <td>0.032080</td>\n",
       "      <td>-0.497666</td>\n",
       "      <td>0.860410</td>\n",
       "      <td>1.000000</td>\n",
       "      <td>0.102470</td>\n",
       "      <td>0.791913</td>\n",
       "      <td>0.769711</td>\n",
       "    </tr>\n",
       "    <tr>\n",
       "      <th>Seats</th>\n",
       "      <td>-0.010727</td>\n",
       "      <td>0.015204</td>\n",
       "      <td>0.082782</td>\n",
       "      <td>-0.299632</td>\n",
       "      <td>0.393368</td>\n",
       "      <td>0.102470</td>\n",
       "      <td>1.000000</td>\n",
       "      <td>0.038492</td>\n",
       "      <td>0.052811</td>\n",
       "    </tr>\n",
       "    <tr>\n",
       "      <th>New_Price</th>\n",
       "      <td>-0.013431</td>\n",
       "      <td>-0.007432</td>\n",
       "      <td>0.016720</td>\n",
       "      <td>-0.415006</td>\n",
       "      <td>0.697517</td>\n",
       "      <td>0.791913</td>\n",
       "      <td>0.038492</td>\n",
       "      <td>1.000000</td>\n",
       "      <td>0.763362</td>\n",
       "    </tr>\n",
       "    <tr>\n",
       "      <th>Price</th>\n",
       "      <td>-0.020275</td>\n",
       "      <td>0.305327</td>\n",
       "      <td>-0.011493</td>\n",
       "      <td>-0.306588</td>\n",
       "      <td>0.657347</td>\n",
       "      <td>0.769711</td>\n",
       "      <td>0.052811</td>\n",
       "      <td>0.763362</td>\n",
       "      <td>1.000000</td>\n",
       "    </tr>\n",
       "  </tbody>\n",
       "</table>\n",
       "</div>"
      ],
      "text/plain": [
       "                      S.No.      Year  Kilometers_Driven   Mileage    Engine  \\\n",
       "S.No.              1.000000  0.002354          -0.008734  0.023674 -0.004117   \n",
       "Year               0.002354  1.000000          -0.173048  0.321534 -0.050086   \n",
       "Kilometers_Driven -0.008734 -0.173048           1.000000 -0.065253  0.090890   \n",
       "Mileage            0.023674  0.321534          -0.065253  1.000000 -0.586404   \n",
       "Engine            -0.004117 -0.050086           0.090890 -0.586404  1.000000   \n",
       "Power             -0.012064  0.024195           0.032080 -0.497666  0.860410   \n",
       "Seats             -0.010727  0.015204           0.082782 -0.299632  0.393368   \n",
       "New_Price         -0.013431 -0.007432           0.016720 -0.415006  0.697517   \n",
       "Price             -0.020275  0.305327          -0.011493 -0.306588  0.657347   \n",
       "\n",
       "                      Power     Seats  New_Price     Price  \n",
       "S.No.             -0.012064 -0.010727  -0.013431 -0.020275  \n",
       "Year               0.024195  0.015204  -0.007432  0.305327  \n",
       "Kilometers_Driven  0.032080  0.082782   0.016720 -0.011493  \n",
       "Mileage           -0.497666 -0.299632  -0.415006 -0.306588  \n",
       "Engine             0.860410  0.393368   0.697517  0.657347  \n",
       "Power              1.000000  0.102470   0.791913  0.769711  \n",
       "Seats              0.102470  1.000000   0.038492  0.052811  \n",
       "New_Price          0.791913  0.038492   1.000000  0.763362  \n",
       "Price              0.769711  0.052811   0.763362  1.000000  "
      ]
     },
     "execution_count": 42,
     "metadata": {},
     "output_type": "execute_result"
    }
   ],
   "source": [
    "# To the correlation between the target and other variables\n",
    "\n",
    "car_mat = car.corr()\n",
    "\n",
    "car_mat"
   ]
  },
  {
   "cell_type": "code",
   "execution_count": 43,
   "id": "9cbc9408",
   "metadata": {},
   "outputs": [
    {
     "data": {
      "image/png": "[encoded data removed]",
      "text/plain": [
       "<Figure size 864x504 with 2 Axes>"
      ]
     },
     "metadata": {
      "needs_background": "light"
     },
     "output_type": "display_data"
    }
   ],
   "source": [
    "# Heatmap to show relationships among the variables\n",
    "\n",
    "plt.figure(figsize=(12,7))\n",
    "sns.heatmap(data =car_mat, annot= True, vmin= -1, vmax=1, cmap= \"Spectral\");\n",
    "plt.title(\"Correlation Plot\")\n",
    "plt.show();"
   ]
  },
  {
   "cell_type": "markdown",
   "id": "b9042c9d",
   "metadata": {},
   "source": [
    "# Points noted from the correlation plot\n",
    "\n",
    "- The target \"price\" and the maximum Power of the engine have the highest positive correlation of 0.77.\n",
    "- The displacement volume of the engine age and the price have positive correlation of 0.66. \n",
    "- The number of the seats in the car and the price have correlation at 0.053\n",
    "- The New_price (the price of the new car) has correlation with the price of the used car (target) at 0.76. \n",
    "- The manufacturing year of the car has positive correlation at 0.31 with the price.\n",
    "- The mileage of the car has negative correlation with the target at -0.31\n",
    "- The kilometers_driven is at negative correlation of -0.011 with the target.\n",
    "\n",
    "### Interpretation\n",
    "\n",
    "- For any two variables with positive correlation, one increases as the other increases.\n"
   ]
  },
  {
   "cell_type": "code",
   "execution_count": 44,
   "id": "78756627",
   "metadata": {},
   "outputs": [
    {
     "data": {
      "image/png": "[encoded data removed]",
      "text/plain": [
       "<Figure size 432x288 with 1 Axes>"
      ]
     },
     "metadata": {
      "needs_background": "light"
     },
     "output_type": "display_data"
    }
   ],
   "source": [
    "# scatter plot to visually view relationships between the target \"Price\" and Power variable\n",
    "\n",
    "sns.scatterplot(data= car, y =\"Price\", x = \"Power\");\n",
    "plt.title(\"Scatter Plot of the Price and Power\")\n",
    "plt.ylabel(\"Price\")\n",
    "plt.xlabel(\"Power\")\n",
    "plt.show();"
   ]
  },
  {
   "cell_type": "markdown",
   "id": "e3c3a937",
   "metadata": {},
   "source": [
    "**Observations**\n",
    "\n",
    "- The Power shows correlation with the price; as the price rises, so the power increases.\n",
    "- The highest price of the used cars of 160 has a power of 250\n",
    "- The highest power of 560 has three prices, this shows that power is NOT the only determinant of the price of the used cars"
   ]
  },
  {
   "cell_type": "code",
   "execution_count": 45,
   "id": "6ff7bc1f",
   "metadata": {},
   "outputs": [
    {
     "data": {
      "image/png": "[encoded data removed]",
      "text/plain": [
       "<Figure size 432x288 with 1 Axes>"
      ]
     },
     "metadata": {
      "needs_background": "light"
     },
     "output_type": "display_data"
    }
   ],
   "source": [
    "# scatter plot to visually view relationships between the target \"Price\" and Engine variable\n",
    "\n",
    "sns.scatterplot(data= car, y =\"Price\", x = \"Engine\");\n",
    "plt.title(\"Scatter Plot of the Price and Engine\")\n",
    "plt.ylabel(\"Price\")\n",
    "plt.xlabel(\"Engine\")\n",
    "plt.show();"
   ]
  },
  {
   "cell_type": "markdown",
   "id": "9caf08b9",
   "metadata": {},
   "source": [
    "**Observations**\n",
    "\n",
    "- The highest price has engine of 3000\n",
    "- The highest of 6000 has a price of 60\n",
    "- Engine shows positive correlation with the price"
   ]
  },
  {
   "cell_type": "code",
   "execution_count": 46,
   "id": "a56b1d97",
   "metadata": {},
   "outputs": [
    {
     "data": {
      "image/png": "[encoded data removed]",
      "text/plain": [
       "<Figure size 432x288 with 1 Axes>"
      ]
     },
     "metadata": {
      "needs_background": "light"
     },
     "output_type": "display_data"
    }
   ],
   "source": [
    "# scatter plot to visually view relationships between the target \"Price\" and New_Price variable\n",
    "\n",
    "sns.scatterplot(data= car, y =\"Price\", x = \"New_Price\");\n",
    "plt.title(\"Scatter Plot of the Price and New_Price\")\n",
    "plt.ylabel(\"Price\")\n",
    "plt.xlabel(\"New_Price\")\n",
    "plt.show();"
   ]
  },
  {
   "cell_type": "markdown",
   "id": "eee29151",
   "metadata": {},
   "source": [
    "**Observations**\n",
    "\n",
    "- The highest price of the used cars of 160 has the nw_price of 225 \n",
    "- The highest New_price of 350 has a price of 60\n"
   ]
  },
  {
   "cell_type": "code",
   "execution_count": 47,
   "id": "9f8f2f03",
   "metadata": {},
   "outputs": [
    {
     "data": {
      "image/png": "[encoded data removed]",
      "text/plain": [
       "<Figure size 432x288 with 1 Axes>"
      ]
     },
     "metadata": {
      "needs_background": "light"
     },
     "output_type": "display_data"
    }
   ],
   "source": [
    "# scatter plot to visually view relationships between the target \"Price\" and Mileage variable\n",
    "\n",
    "sns.scatterplot(data= car, y=\"Price\", x = \"Mileage\");\n",
    "plt.title(\"Scatter Plot of the Price and Mileage\")\n",
    "plt.ylabel(\"Price\")\n",
    "plt.xlabel(\"Mileage\")\n",
    "plt.show();"
   ]
  },
  {
   "cell_type": "markdown",
   "id": "1433e0f6",
   "metadata": {},
   "source": [
    "**Observations** \n",
    "\n",
    "- The highest mileage of 33 has a price of 0\n",
    "- the higest price of 160 has a mileage  of 15.\n",
    "- The mileage shows a negative correlation with the price, as one increases, the other decreases."
   ]
  },
  {
   "cell_type": "markdown",
   "id": "910a493f",
   "metadata": {},
   "source": [
    "## To build the model"
   ]
  },
  {
   "cell_type": "code",
   "execution_count": 48,
   "id": "9cbeedcf",
   "metadata": {},
   "outputs": [
    {
     "name": "stdout",
     "output_type": "stream",
     "text": [
      "<class 'pandas.core.frame.DataFrame'>\n",
      "RangeIndex: 6019 entries, 0 to 6018\n",
      "Data columns (total 14 columns):\n",
      " #   Column             Non-Null Count  Dtype  \n",
      "---  ------             --------------  -----  \n",
      " 0   S.No.              6019 non-null   int64  \n",
      " 1   Name               6019 non-null   object \n",
      " 2   Location           6019 non-null   object \n",
      " 3   Year               6019 non-null   int64  \n",
      " 4   Kilometers_Driven  6019 non-null   int64  \n",
      " 5   Fuel_Type          6019 non-null   object \n",
      " 6   Transmission       6019 non-null   object \n",
      " 7   Owner_Type         6019 non-null   object \n",
      " 8   Mileage            6019 non-null   float64\n",
      " 9   Engine             6019 non-null   float64\n",
      " 10  Power              6019 non-null   float64\n",
      " 11  Seats              6019 non-null   float64\n",
      " 12  New_Price          6019 non-null   float64\n",
      " 13  Price              6019 non-null   float64\n",
      "dtypes: float64(6), int64(3), object(5)\n",
      "memory usage: 658.5+ KB\n"
     ]
    }
   ],
   "source": [
    "# To check the data types\n",
    "\n",
    "car.info()"
   ]
  },
  {
   "cell_type": "markdown",
   "id": "eb4da28d",
   "metadata": {},
   "source": [
    "**Strategy**\n",
    "\n",
    "- Categorical variables in the data (Name, location, Fuel_type, Transmission and Owner_type) will not contribute much to the \n",
    "building of the model. Using get_dummies method to expand them in the data will only increase the compexity of the model \n",
    "unnecessary, hence these variables will be dropped."
   ]
  },
  {
   "cell_type": "code",
   "execution_count": 49,
   "id": "268de6b0",
   "metadata": {},
   "outputs": [],
   "source": [
    "# To drop the categorical variables\n",
    "\n",
    "cars = car.drop([\"Name\",\"Location\",\"Fuel_Type\",\"Transmission\", \"Owner_Type\"], axis =1)\n"
   ]
  },
  {
   "cell_type": "code",
   "execution_count": 50,
   "id": "d8afc977",
   "metadata": {},
   "outputs": [
    {
     "data": {
      "text/plain": [
       "(6019, 9)"
      ]
     },
     "execution_count": 50,
     "metadata": {},
     "output_type": "execute_result"
    }
   ],
   "source": [
    "# To check the remaining variables \n",
    "\n",
    "cars.shape"
   ]
  },
  {
   "cell_type": "markdown",
   "id": "9a7d5d0a",
   "metadata": {},
   "source": [
    "- There are 6019 rows and 9 columns in the data"
   ]
  },
  {
   "cell_type": "code",
   "execution_count": 51,
   "id": "56e56c57",
   "metadata": {},
   "outputs": [],
   "source": [
    "# To seperate the target from the independent variables and given target new variable name, y\n",
    "\n",
    "X = cars.drop(\"Price\", axis =1)\n",
    "\n",
    "y = cars[\"Price\"]"
   ]
  },
  {
   "cell_type": "code",
   "execution_count": 52,
   "id": "9fb3ad86",
   "metadata": {},
   "outputs": [],
   "source": [
    "# To split data into 80% for training data and 20% for testing data\n",
    "\n",
    "x_train, x_test, y_train, y_test = train_test_split(X,y, test_size=0.2, random_state=0)"
   ]
  },
  {
   "cell_type": "code",
   "execution_count": 53,
   "id": "365663c0",
   "metadata": {},
   "outputs": [
    {
     "data": {
      "text/plain": [
       "(4815, 8)"
      ]
     },
     "execution_count": 53,
     "metadata": {},
     "output_type": "execute_result"
    }
   ],
   "source": [
    "# To check the dimension of the target training data\n",
    "\n",
    "x_train.shape"
   ]
  },
  {
   "cell_type": "markdown",
   "id": "1ec9d65c",
   "metadata": {},
   "source": [
    "- There are 4815 rows and 8 columns in the training data"
   ]
  },
  {
   "cell_type": "code",
   "execution_count": 54,
   "id": "9829444e",
   "metadata": {},
   "outputs": [
    {
     "data": {
      "text/plain": [
       "(1204, 8)"
      ]
     },
     "execution_count": 54,
     "metadata": {},
     "output_type": "execute_result"
    }
   ],
   "source": [
    "# To check the dimension of the target testing data\n",
    "\n",
    "x_test.shape"
   ]
  },
  {
   "cell_type": "markdown",
   "id": "375ace70",
   "metadata": {},
   "source": [
    "- There are 1204 rows and 8 columns in the testing data"
   ]
  },
  {
   "cell_type": "code",
   "execution_count": 55,
   "id": "4b9e1996",
   "metadata": {},
   "outputs": [],
   "source": [
    "# To create an instant of the scaler\n",
    "\n",
    "scaler = StandardScaler()\n",
    "\n",
    "# For scaler to calculate and convert each variable to have a mean and standard deviation of 0 and 1, and save it in a new name\n",
    "    \n",
    "x_train_scaler = scaler.fit_transform(x_train)\n",
    "\n",
    "\n",
    "x_test_scaler = scaler.transform(x_test)"
   ]
  },
  {
   "cell_type": "code",
   "execution_count": 56,
   "id": "6753bbec",
   "metadata": {},
   "outputs": [
    {
     "data": {
      "text/plain": [
       "LinearRegression()"
      ]
     },
     "execution_count": 56,
     "metadata": {},
     "output_type": "execute_result"
    }
   ],
   "source": [
    "# To instantiate linear regression\n",
    "\n",
    "lr = LinearRegression()\n",
    "\n",
    "# To build the model\n",
    "\n",
    "lr.fit(x_train_scaler, y_train)"
   ]
  },
  {
   "cell_type": "code",
   "execution_count": 57,
   "id": "b3913e05",
   "metadata": {},
   "outputs": [
    {
     "data": {
      "text/plain": [
       "array([-0.11664212,  3.53377907,  0.26833653, -0.21604759,  0.99400277,\n",
       "        3.73223859, -0.61520729,  4.89876193])"
      ]
     },
     "execution_count": 57,
     "metadata": {},
     "output_type": "execute_result"
    }
   ],
   "source": [
    "# To know the values of the coefficients\n",
    "\n",
    "lr.coef_"
   ]
  },
  {
   "cell_type": "code",
   "execution_count": 58,
   "id": "b15ce698",
   "metadata": {},
   "outputs": [
    {
     "name": "stdout",
     "output_type": "stream",
     "text": [
      "S.No. has coefficient of -0.11664211938952959\n",
      "Year has coefficient of 3.5337790667075923\n",
      "Kilometers_Driven has coefficient of 0.2683365296553363\n",
      "Mileage has coefficient of -0.21604758815561212\n",
      "Engine has coefficient of 0.9940027687323535\n",
      "Power has coefficient of 3.732238590766217\n",
      "Seats has coefficient of -0.6152072940128536\n",
      "New_Price has coefficient of 4.89876192998365\n"
     ]
    }
   ],
   "source": [
    "# To iterate through the coefficients in order to know the coefficent of each independent variable\n",
    "\n",
    "for idx, col_name in enumerate(X.columns):           \n",
    "    print(f\"{col_name} has coefficient of {lr.coef_[idx]}\")"
   ]
  },
  {
   "cell_type": "markdown",
   "id": "001974d9",
   "metadata": {},
   "source": [
    "**Interpretation of the coefficients**\n",
    "\n",
    "- The New_price has the highest positive coefficient of 4.9 which means for every unit increase in the New_price variable\n",
    "will cause an increase of 4.9% in the target variable \"Price\".\n",
    "- The seats has the most negative coefficient of -0.6 which menas for every unit increase in the seats variable will cause a \n",
    "decrease of 0.6% in the dependent variable \"Price\"."
   ]
  },
  {
   "cell_type": "code",
   "execution_count": 59,
   "id": "de51991f",
   "metadata": {},
   "outputs": [],
   "source": [
    "# function to compute different metrics to check performance of a regression model\n",
    "\n",
    "def adj_r2_score(predictors, targets, predictions):\n",
    "    r2 = r2_score(targets, predictions)\n",
    "    n = predictors.shape[0]\n",
    "    k = predictors.shape[1]\n",
    "    return 1 - ((1 - r2) * (n - 1) / (n - k - 1))\n",
    "\n",
    "\n",
    "# function to compute different metrics to check performance of a regression model\n",
    "\n",
    "def model_performance_regression(model, predictors, target):\n",
    "    \"\"\"\n",
    "    Function to compute different metrics to check regression model performance\n",
    "\n",
    "    model: regressor\n",
    "    predictors: independent variables\n",
    "    target: dependent variable\n",
    "    \"\"\"\n",
    "\n",
    "# predicting using the independent variables\n",
    "\n",
    "    pred = model.predict(predictors)\n",
    "\n",
    "    r2 = r2_score(target, pred)  # to compute R-squared\n",
    "    adjr2 = adj_r2_score(predictors, target, pred)  # to compute adjusted R-squared\n",
    "    rmse = np.sqrt(mean_squared_error(target, pred))  # to compute RMSE\n",
    "    mae = mean_absolute_error(target, pred)  # to compute MAE\n",
    "\n",
    "# creating a dataframe of metrics\n",
    "\n",
    "    df_perf = pd.DataFrame(\n",
    "        {\n",
    "            \"RMSE\": rmse,\n",
    "            \"MAE\": mae,\n",
    "            \"R-squared\": r2,\n",
    "            \"Adj. R-squared\": adjr2,\n",
    "        },\n",
    "        index=[0],\n",
    "    )\n",
    "\n",
    "    return df_perf"
   ]
  },
  {
   "cell_type": "markdown",
   "id": "c8fae5fb",
   "metadata": {},
   "source": [
    "### To check the linear regression model training performance"
   ]
  },
  {
   "cell_type": "code",
   "execution_count": 60,
   "id": "dd80b75a",
   "metadata": {},
   "outputs": [
    {
     "data": {
      "text/html": [
       "<div>\n",
       "<style scoped>\n",
       "    .dataframe tbody tr th:only-of-type {\n",
       "        vertical-align: middle;\n",
       "    }\n",
       "\n",
       "    .dataframe tbody tr th {\n",
       "        vertical-align: top;\n",
       "    }\n",
       "\n",
       "    .dataframe thead th {\n",
       "        text-align: right;\n",
       "    }\n",
       "</style>\n",
       "<table border=\"1\" class=\"dataframe\">\n",
       "  <thead>\n",
       "    <tr style=\"text-align: right;\">\n",
       "      <th></th>\n",
       "      <th>RMSE</th>\n",
       "      <th>MAE</th>\n",
       "      <th>R-squared</th>\n",
       "      <th>Adj. R-squared</th>\n",
       "    </tr>\n",
       "  </thead>\n",
       "  <tbody>\n",
       "    <tr>\n",
       "      <th>0</th>\n",
       "      <td>5.638953</td>\n",
       "      <td>3.205604</td>\n",
       "      <td>0.748543</td>\n",
       "      <td>0.748124</td>\n",
       "    </tr>\n",
       "  </tbody>\n",
       "</table>\n",
       "</div>"
      ],
      "text/plain": [
       "       RMSE       MAE  R-squared  Adj. R-squared\n",
       "0  5.638953  3.205604   0.748543        0.748124"
      ]
     },
     "execution_count": 60,
     "metadata": {},
     "output_type": "execute_result"
    }
   ],
   "source": [
    "# To know the performance of the train data\n",
    "\n",
    "df_train = model_performance_regression(lr, x_train_scaler, y_train)\n",
    "\n",
    "df_train"
   ]
  },
  {
   "cell_type": "markdown",
   "id": "2c50a16d",
   "metadata": {},
   "source": [
    "**The train data has...**\n",
    "\n",
    "- Root mean squared error of 5.64\n",
    "- Mean absolute error of 3.2\n",
    "- R-squared of 0.748\n",
    "- Adjusted R-squared of 0.748\n",
    "\n",
    "## Interpretation\n",
    "- The R-squared of 75% means that 75% variation of the dependent variable \"Price\" is explained by the independent variables\n",
    "\n",
    "\n",
    "### To check the linear regression model testing performance"
   ]
  },
  {
   "cell_type": "code",
   "execution_count": 61,
   "id": "9c2f1199",
   "metadata": {},
   "outputs": [
    {
     "data": {
      "text/html": [
       "<div>\n",
       "<style scoped>\n",
       "    .dataframe tbody tr th:only-of-type {\n",
       "        vertical-align: middle;\n",
       "    }\n",
       "\n",
       "    .dataframe tbody tr th {\n",
       "        vertical-align: top;\n",
       "    }\n",
       "\n",
       "    .dataframe thead th {\n",
       "        text-align: right;\n",
       "    }\n",
       "</style>\n",
       "<table border=\"1\" class=\"dataframe\">\n",
       "  <thead>\n",
       "    <tr style=\"text-align: right;\">\n",
       "      <th></th>\n",
       "      <th>RMSE</th>\n",
       "      <th>MAE</th>\n",
       "      <th>R-squared</th>\n",
       "      <th>Adj. R-squared</th>\n",
       "    </tr>\n",
       "  </thead>\n",
       "  <tbody>\n",
       "    <tr>\n",
       "      <th>0</th>\n",
       "      <td>5.627674</td>\n",
       "      <td>3.180633</td>\n",
       "      <td>0.735811</td>\n",
       "      <td>0.734042</td>\n",
       "    </tr>\n",
       "  </tbody>\n",
       "</table>\n",
       "</div>"
      ],
      "text/plain": [
       "       RMSE       MAE  R-squared  Adj. R-squared\n",
       "0  5.627674  3.180633   0.735811        0.734042"
      ]
     },
     "execution_count": 61,
     "metadata": {},
     "output_type": "execute_result"
    }
   ],
   "source": [
    "# To know the performance of the test data\n",
    "\n",
    "df_test = model_performance_regression(lr, x_test_scaler, y_test)\n",
    "\n",
    "df_test"
   ]
  },
  {
   "cell_type": "markdown",
   "id": "067417d4",
   "metadata": {},
   "source": [
    "**The test data has...**\n",
    "\n",
    "- Root mean squared error of 5.6\n",
    "- Mean absolute error of 3.2\n",
    "- R-squared of 0.736\n",
    "- Adjusted R-squared of 0.73.4\n",
    "\n",
    "**Interpretation**\n",
    "\n",
    "- The R-squared of 74% means that 74% variation of the dependent variable \"Price\" is explained by the independent variables.\n",
    "\n",
    "## Conclusion\n",
    "- The regression model under-fits.\n",
    "This means that the model did not perform well on the training and on the testing data because 74% performance is too low"
   ]
  },
  {
   "cell_type": "markdown",
   "id": "70d6fdbd",
   "metadata": {},
   "source": [
    "### Using ridge regression to improve the model...."
   ]
  },
  {
   "cell_type": "code",
   "execution_count": 62,
   "id": "3de8bfdf",
   "metadata": {},
   "outputs": [
    {
     "data": {
      "text/plain": [
       "Ridge(alpha=0.8, random_state=0)"
      ]
     },
     "execution_count": 62,
     "metadata": {},
     "output_type": "execute_result"
    }
   ],
   "source": [
    "# from the library, import the ridge algorithm\n",
    "\n",
    "from sklearn.linear_model import Ridge\n",
    "\n",
    "# instantiate the model and set the regularisation strenghth of alpha to 0.05\n",
    "\n",
    "ridge = Ridge(alpha = 0.8, random_state = 0)\n",
    "\n",
    "# To train the model\n",
    "\n",
    "ridge.fit(x_train_scaler, y_train)"
   ]
  },
  {
   "cell_type": "markdown",
   "id": "0b87976a",
   "metadata": {},
   "source": [
    "### To check the ridge regression model training performance"
   ]
  },
  {
   "cell_type": "code",
   "execution_count": 63,
   "id": "cfb0e9c5",
   "metadata": {},
   "outputs": [
    {
     "data": {
      "text/html": [
       "<div>\n",
       "<style scoped>\n",
       "    .dataframe tbody tr th:only-of-type {\n",
       "        vertical-align: middle;\n",
       "    }\n",
       "\n",
       "    .dataframe tbody tr th {\n",
       "        vertical-align: top;\n",
       "    }\n",
       "\n",
       "    .dataframe thead th {\n",
       "        text-align: right;\n",
       "    }\n",
       "</style>\n",
       "<table border=\"1\" class=\"dataframe\">\n",
       "  <thead>\n",
       "    <tr style=\"text-align: right;\">\n",
       "      <th></th>\n",
       "      <th>RMSE</th>\n",
       "      <th>MAE</th>\n",
       "      <th>R-squared</th>\n",
       "      <th>Adj. R-squared</th>\n",
       "    </tr>\n",
       "  </thead>\n",
       "  <tbody>\n",
       "    <tr>\n",
       "      <th>0</th>\n",
       "      <td>5.638953</td>\n",
       "      <td>3.205604</td>\n",
       "      <td>0.748543</td>\n",
       "      <td>0.748124</td>\n",
       "    </tr>\n",
       "  </tbody>\n",
       "</table>\n",
       "</div>"
      ],
      "text/plain": [
       "       RMSE       MAE  R-squared  Adj. R-squared\n",
       "0  5.638953  3.205604   0.748543        0.748124"
      ]
     },
     "execution_count": 63,
     "metadata": {},
     "output_type": "execute_result"
    }
   ],
   "source": [
    "# To check the ridge model's training performance\n",
    "\n",
    "df_train2 = model_performance_regression(ridge, x_train_scaler, y_train)\n",
    "\n",
    "df_train"
   ]
  },
  {
   "cell_type": "markdown",
   "id": "4f5afd83",
   "metadata": {},
   "source": [
    "**From above**\n",
    "\n",
    "- The R-squared is 75%\n",
    "- The adjusted R-squared is also 75%\n",
    "\n",
    "### Interpretation\n",
    "\n",
    "The R-squared of 75% means that 75% variation of the dependent variable \"Price\" is explained by the independent variables.\n",
    "\n",
    "#### When compared with linear regression model's training performance\n",
    "\n",
    "- The performance remains the same as linear regression model in the training performance"
   ]
  },
  {
   "cell_type": "markdown",
   "id": "0edccd78",
   "metadata": {},
   "source": [
    "### To check the ridge regression model's testing performance"
   ]
  },
  {
   "cell_type": "code",
   "execution_count": 64,
   "id": "369a6b26",
   "metadata": {},
   "outputs": [
    {
     "data": {
      "text/html": [
       "<div>\n",
       "<style scoped>\n",
       "    .dataframe tbody tr th:only-of-type {\n",
       "        vertical-align: middle;\n",
       "    }\n",
       "\n",
       "    .dataframe tbody tr th {\n",
       "        vertical-align: top;\n",
       "    }\n",
       "\n",
       "    .dataframe thead th {\n",
       "        text-align: right;\n",
       "    }\n",
       "</style>\n",
       "<table border=\"1\" class=\"dataframe\">\n",
       "  <thead>\n",
       "    <tr style=\"text-align: right;\">\n",
       "      <th></th>\n",
       "      <th>RMSE</th>\n",
       "      <th>MAE</th>\n",
       "      <th>R-squared</th>\n",
       "      <th>Adj. R-squared</th>\n",
       "    </tr>\n",
       "  </thead>\n",
       "  <tbody>\n",
       "    <tr>\n",
       "      <th>0</th>\n",
       "      <td>5.627557</td>\n",
       "      <td>3.180485</td>\n",
       "      <td>0.735822</td>\n",
       "      <td>0.734053</td>\n",
       "    </tr>\n",
       "  </tbody>\n",
       "</table>\n",
       "</div>"
      ],
      "text/plain": [
       "       RMSE       MAE  R-squared  Adj. R-squared\n",
       "0  5.627557  3.180485   0.735822        0.734053"
      ]
     },
     "execution_count": 64,
     "metadata": {},
     "output_type": "execute_result"
    }
   ],
   "source": [
    "# To check the ridge model's testing performance\n",
    "\n",
    "df_test2 = model_performance_regression(ridge, x_test_scaler, y_test)\n",
    "\n",
    "df_test2"
   ]
  },
  {
   "cell_type": "markdown",
   "id": "286e1f1b",
   "metadata": {},
   "source": [
    "**From above**\n",
    "\n",
    "- The R-squared is 74%\n",
    "- The adjusted R-squared is also 74%\n",
    "\n",
    "### Interpretation\n",
    "\n",
    "The R-squared of 74% means that 74% variation of the dependent variable \"Price\" is explained by the independent variables.\n",
    "\n",
    "### When compared with linear regression model's testing performance\n",
    "\n",
    "- There is no difference in the testing performance of ridge regression model when compared with the linear regression model. The R-squared and the Adjusted R-squared are exactly the same."
   ]
  },
  {
   "cell_type": "markdown",
   "id": "8a48f5ff",
   "metadata": {},
   "source": [
    "## Using lasso to improve the model...."
   ]
  },
  {
   "cell_type": "code",
   "execution_count": 65,
   "id": "eecb3d2f",
   "metadata": {},
   "outputs": [
    {
     "data": {
      "text/plain": [
       "Lasso(alpha=0.8, random_state=0)"
      ]
     },
     "execution_count": 65,
     "metadata": {},
     "output_type": "execute_result"
    }
   ],
   "source": [
    "# from the library, import the lasso algorithm\n",
    "\n",
    "from sklearn.linear_model import Lasso\n",
    "\n",
    "# To create an instant of lasso regression and set the regularisation strenghth of alpha to 0.8\n",
    "\n",
    "lasso = Lasso(alpha = 0.8, random_state = 0)\n",
    "\n",
    "# To build lasso model\n",
    "\n",
    "lasso.fit(x_train_scaler, y_train)"
   ]
  },
  {
   "cell_type": "markdown",
   "id": "76ed17fc",
   "metadata": {},
   "source": [
    "### To check the lasso regression model's training performance¶"
   ]
  },
  {
   "cell_type": "code",
   "execution_count": 66,
   "id": "7c482a6d",
   "metadata": {},
   "outputs": [
    {
     "data": {
      "text/html": [
       "<div>\n",
       "<style scoped>\n",
       "    .dataframe tbody tr th:only-of-type {\n",
       "        vertical-align: middle;\n",
       "    }\n",
       "\n",
       "    .dataframe tbody tr th {\n",
       "        vertical-align: top;\n",
       "    }\n",
       "\n",
       "    .dataframe thead th {\n",
       "        text-align: right;\n",
       "    }\n",
       "</style>\n",
       "<table border=\"1\" class=\"dataframe\">\n",
       "  <thead>\n",
       "    <tr style=\"text-align: right;\">\n",
       "      <th></th>\n",
       "      <th>RMSE</th>\n",
       "      <th>MAE</th>\n",
       "      <th>R-squared</th>\n",
       "      <th>Adj. R-squared</th>\n",
       "    </tr>\n",
       "  </thead>\n",
       "  <tbody>\n",
       "    <tr>\n",
       "      <th>0</th>\n",
       "      <td>5.786343</td>\n",
       "      <td>3.038222</td>\n",
       "      <td>0.735226</td>\n",
       "      <td>0.734785</td>\n",
       "    </tr>\n",
       "  </tbody>\n",
       "</table>\n",
       "</div>"
      ],
      "text/plain": [
       "       RMSE       MAE  R-squared  Adj. R-squared\n",
       "0  5.786343  3.038222   0.735226        0.734785"
      ]
     },
     "execution_count": 66,
     "metadata": {},
     "output_type": "execute_result"
    }
   ],
   "source": [
    "# To check the lasso model's training performance\n",
    "\n",
    "df_train3 = model_performance_regression(lasso, x_train_scaler, y_train)\n",
    "\n",
    "df_train3"
   ]
  },
  {
   "cell_type": "markdown",
   "id": "70df96f6",
   "metadata": {},
   "source": [
    "**From above**\n",
    "\n",
    "- The R-squared is 74%\n",
    "- The adjusted R-squared is also 74%\n",
    "\n",
    "### Interpretation\n",
    "\n",
    "The R-squared of 74% means that 74% variation of the dependent variable \"Price\" is explained by the independent variables.\n",
    "\n",
    "### When compared with linear regression & ridge models' training performances\n",
    "\n",
    "- The performance decreases to 74% from 75% as in linear regression and ridge regression models in the training performances. \n",
    "\n",
    "\n",
    "## To check the lasso regression model's testing performance"
   ]
  },
  {
   "cell_type": "code",
   "execution_count": 67,
   "id": "2558e07d",
   "metadata": {},
   "outputs": [
    {
     "data": {
      "text/html": [
       "<div>\n",
       "<style scoped>\n",
       "    .dataframe tbody tr th:only-of-type {\n",
       "        vertical-align: middle;\n",
       "    }\n",
       "\n",
       "    .dataframe tbody tr th {\n",
       "        vertical-align: top;\n",
       "    }\n",
       "\n",
       "    .dataframe thead th {\n",
       "        text-align: right;\n",
       "    }\n",
       "</style>\n",
       "<table border=\"1\" class=\"dataframe\">\n",
       "  <thead>\n",
       "    <tr style=\"text-align: right;\">\n",
       "      <th></th>\n",
       "      <th>RMSE</th>\n",
       "      <th>MAE</th>\n",
       "      <th>R-squared</th>\n",
       "      <th>Adj. R-squared</th>\n",
       "    </tr>\n",
       "  </thead>\n",
       "  <tbody>\n",
       "    <tr>\n",
       "      <th>0</th>\n",
       "      <td>5.572336</td>\n",
       "      <td>2.960928</td>\n",
       "      <td>0.740981</td>\n",
       "      <td>0.739247</td>\n",
       "    </tr>\n",
       "  </tbody>\n",
       "</table>\n",
       "</div>"
      ],
      "text/plain": [
       "       RMSE       MAE  R-squared  Adj. R-squared\n",
       "0  5.572336  2.960928   0.740981        0.739247"
      ]
     },
     "execution_count": 67,
     "metadata": {},
     "output_type": "execute_result"
    }
   ],
   "source": [
    "# To check the lasso model's testing performance\n",
    "\n",
    "df_test3 = model_performance_regression(lasso, x_test_scaler, y_test)\n",
    "\n",
    "df_test3"
   ]
  },
  {
   "cell_type": "markdown",
   "id": "3a9d95fc",
   "metadata": {},
   "source": [
    "**From above**\n",
    "\n",
    "- The R-squared is 74%\n",
    "- The adjusted R-squared is also 74%\n",
    "\n",
    "### Interpretation\n",
    "\n",
    "- The R-squared of 74% means that 74% variation of the dependent variable \"Price\" is explained by the independent variables.\n",
    "\n",
    "###  When compared with linear regression & ridge models' testing performances\n",
    "\n",
    "- The model's testin gperformance in R-squared increased to 74% from 73.5% in both linear and ridge regression models and to 73.9%\n",
    "in Adjusted R-Squared from 73.4% in both linear and ridge regression models."
   ]
  },
  {
   "cell_type": "code",
   "execution_count": null,
   "id": "38928985",
   "metadata": {},
   "outputs": [],
   "source": []
  }
 ],
 "metadata": {
  "kernelspec": {
   "display_name": "Python 3 (ipykernel)",
   "language": "python",
   "name": "python3"
  },
  "language_info": {
   "codemirror_mode": {
    "name": "ipython",
    "version": 3
   },
   "file_extension": ".py",
   "mimetype": "text/x-python",
   "name": "python",
   "nbconvert_exporter": "python",
   "pygments_lexer": "ipython3",
   "version": "3.9.12"
  }
 },
 "nbformat": 4,
 "nbformat_minor": 5
}
